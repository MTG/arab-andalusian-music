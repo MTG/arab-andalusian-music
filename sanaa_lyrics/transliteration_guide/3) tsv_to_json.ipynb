{
 "cells": [
  {
   "cell_type": "markdown",
   "metadata": {},
   "source": [
    "# From tsv to JSON for original and transliterated files\n",
    "\n",
    "This notebook converts the sanai lyrics tsv files to JSON files, for both tsvs in transliterated and original script."
   ]
  },
  {
   "cell_type": "markdown",
   "metadata": {},
   "source": [
    "## Prerequisites\n",
    "1. Input Format:\n",
    "    The expected formats of the tsv files is the that output from the 1) docx_to_tsv notebook and the 2) transliterate_tsv notebook.\n",
    "2. Paths: \n",
    "    original script tsv files should be placed in tsv_files/original/, and transliterated tsvs should be placed in tsv_files/transliterated/. \n",
    "    "
   ]
  },
  {
   "cell_type": "markdown",
   "metadata": {},
   "source": [
    "## Output Format\n",
    "\n",
    "For more information about the tsv and JSON format and contents, please consult the README in the Arab Andalusian Lyrics Dataset found in https://zenodo.org/record/3337623#.XS3WqpMza8o. Information on the tsv can be found in the previous notebooks as well.\n",
    "\n",
    "However, below are some implementation decisions that were taken:\n",
    "\n",
    "1. if a poem type is missing, the ptype of the JSON format is put as either 'مجهول' or unidentified' depending on the file language.\n",
    "\n",
    "2. The identifier key is set to the first lyrics tsv column of the first row of the poem.\n",
    "\n",
    "3. What is referred to as the stype is an abbreviation for sanaa type. However, the name is slightly misleading, it refers to the type of the text currently being processed, whether it is a sanaa, a mawwal, inshad, or tawshiya, etc.  Also, the use of recording_sanas as a variable should not confuse the user. At the end this array will have all the elements that appeared in the lyrics of the recording.\n",
    "\n",
    "4. Not all 'tawshiyat al mizan' entries have lyrics. In those without lyrics, the identifier could be empty. For those with lyrics, the handling is no different than 1. \n",
    "\n",
    "5. The 'sections' entry in the JSON dictionary corresponding to a sanaa/inshad/mawwal takes a very nested format. It's an array of sections, where each section is an array of lines. Given that each line is in itself an array of poem line sections, this makes the section entry a 3D array. Again, the outermost term 'sections' here should not be confused with a line sections of a poem. In this context, sections is synonymous with parts, meaning a group of lines within a poem with similar structure. \n",
    "\n",
    "6. One should be aware that sometimes spacing between words in arabic could cause substring mismatches and eventually cause bugs. For example, (tawshiyat al mizan) is without spaces. When creating the lyrics files, check this notebook to see which keywords are expected in which format to make sure the script works correctly.\n"
   ]
  },
  {
   "cell_type": "code",
   "execution_count": 5,
   "metadata": {},
   "outputs": [],
   "source": [
    "import sys, os, glob, json, shutil, codecs, platform\n",
    "import pandas as pd\n",
    "import ArabicTransliterator\n",
    "\n",
    "from IPython.display import display, HTML"
   ]
  },
  {
   "cell_type": "markdown",
   "metadata": {},
   "source": [
    "## JSON Conversion"
   ]
  },
  {
   "cell_type": "markdown",
   "metadata": {},
   "source": [
    "Parameters:\n",
    "1. s is either a file stream or a string stream with the input tsv that is to be transliterated\n",
    "\n",
    "2. v is a character indicates whether we are using the original or transliterated version of the lyrics, because the creation of the JSON dictionary will differ accordingly. 'o' refers to the original version and 't' refers to the transliterated one."
   ]
  },
  {
   "cell_type": "code",
   "execution_count": 26,
   "metadata": {},
   "outputs": [],
   "source": [
    "def strip_digits(s):\n",
    "    return ''.join([i for i in s if not i.isdigit()])\n",
    "\n",
    "def tsv_to_json(s, v):\n",
    "    recording_sanas = []\n",
    "    keywords = {'o' : {'type1' :['توشية الميزان', 'توشيةالميزان', 'الصنعة', 'إنشاد', 'موال', 'صنعة', 'توشيةالنوبة'], 'type2' : [\"توشية\"] } , \n",
    "                't': {'type1' : [\"tawshīt al-mīzān\", \"tawshīt al-mīzān\", \"al-ṣan‘ah\", \"inshād\", \"mawwāl\", \"ṣan‘ah\", \"tawshīt al-nūbah\"], 'type2' : [\"tawshīya\"] } }\n",
    "    missing = {'o' : 'مجهول', 't' : 'unidentified'}\n",
    "    known_ptypes = {'t': ['zajal','qaṣīdah', 'tawshīḥ', 'birūlatin', 'birūālatin', 'tawshīḥun', 'qaṣīdatun'], 'o' : ['زجل', 'قصيدة', 'توشيح', 'برولة']}\n",
    "    \n",
    "    poem_types, sana_types = {}, {}\n",
    "    for line in s:\n",
    "        data = line.strip('\\r\\n').rstrip('\\t').split(\"\\t\")\n",
    "        if len(data) == 1:       #if no tabs found\n",
    "            if len(data[0]) > 0: #and non empty line\n",
    "                title = data[0].strip('\\r\\n').split(\".\")\n",
    "                stype, ptype = \"\", \"\"\n",
    "                stype = strip_digits(title[0]).strip()  \n",
    "                \n",
    "                if stype not in keywords[v]['type1']:\n",
    "                    stype = missing[v]     \n",
    "                sana_types.setdefault(stype, 0)\n",
    "                sana_types[stype] += 1\n",
    "            \n",
    "                ptype_matches = [p for p in known_ptypes[v] if p in line] #if more than 1 match, we use first.\n",
    "            \n",
    "                if len(ptype_matches) > 0:\n",
    "                    ptype = ptype_matches[0]\n",
    "                else:\n",
    "                    ptype = missing[v]\n",
    "                poem_types.setdefault(ptype, 0)\n",
    "                poem_types[ptype] += 1\n",
    "                \n",
    "                recording_sanas.append({\"title\": data[0].strip(), \"sections\": [[]], \"type\": stype, \"identifier\": \"\", \"poem\" : ptype})\n",
    "                \n",
    "            else: \n",
    "                recording_sanas[-1]['sections'].append([])\n",
    "              \n",
    "        elif len(data) == 2 and (data[1] == keywords[v]['type1'][0] or data[1] == keywords[v]['type1'][1]): #\"tawshīt al-mīzān\" or its arabic script equiv.\n",
    "            stype = data[1]\n",
    "            recording_sanas.append({\"title\": data[1].strip(), \"sections\": [[]], \"type\": stype, \"identifier\": \"\", \"poem\" : \"\"})\n",
    "    \n",
    "        elif len(data) >= 2: #line in a sanaa body\n",
    "            if(len(recording_sanas[-1]['sections'][0])) == 0: #if this is the first row in the sanaa\n",
    "                recording_sanas[-1]['identifier'] = data[1] \n",
    "            recording_sanas[-1]['sections'][-1].append(data)\n",
    "             \n",
    "    #some post-processing\n",
    "    for i in range(len(recording_sanas)): \n",
    "        if len(recording_sanas[i]['sections'][-1]) == 0: #remove empty sections in a recording if found.. \n",
    "            recording_sanas[i]['sections'] = recording_sanas[i]['sections'][:-1]\n",
    "        if recording_sanas[i]['identifier'] == keywords[v]['type2'][0]:  #if the identifier is a tawshiya, take the following line section\n",
    "            if len(recording_sanas[i]['sections'][0][0]) > 1: \n",
    "                recording_sanas[i]['identifier'] = recording_sanas[i]['sections'][0][0][1]\n",
    "    \n",
    "    return (recording_sanas, sana_types, poem_types)"
   ]
  },
  {
   "cell_type": "markdown",
   "metadata": {},
   "source": [
    "This cell concerns the loading of files, and the actual tsv to json conversion, both when in original and transliterated formats"
   ]
  },
  {
   "cell_type": "code",
   "execution_count": 27,
   "metadata": {},
   "outputs": [
    {
     "data": {
      "text/plain": [
       "'tsv_files/original/3fb6107c-13be-4006-851a-a857ed2f80bb.tsv'"
      ]
     },
     "metadata": {},
     "output_type": "display_data"
    },
    {
     "name": "stdout",
     "output_type": "stream",
     "text": [
      "الصنعة\n",
      "10\n",
      "مجهول\n",
      "1\n",
      "إنشاد\n",
      "1\n",
      "زجل\n",
      "7\n",
      "توشيح\n",
      "2\n",
      "مجهول\n",
      "2\n",
      "قصيدة\n",
      "1\n"
     ]
    },
    {
     "data": {
      "text/plain": [
       "'tsv_files/original/70c04adf-b886-4d62-a88a-abdde5d93715.tsv'"
      ]
     },
     "metadata": {},
     "output_type": "display_data"
    },
    {
     "name": "stdout",
     "output_type": "stream",
     "text": [
      "الصنعة\n",
      "9\n",
      "مجهول\n",
      "1\n",
      "زجل\n",
      "6\n",
      "توشيح\n",
      "3\n",
      "مجهول\n",
      "1\n"
     ]
    },
    {
     "data": {
      "text/plain": [
       "'tsv_files/transliterated/3fb6107c-13be-4006-851a-a857ed2f80bb.tsv'"
      ]
     },
     "metadata": {},
     "output_type": "display_data"
    },
    {
     "name": "stdout",
     "output_type": "stream",
     "text": [
      "al-ṣan‘ah\n",
      "10\n",
      "unidentified\n",
      "1\n",
      "inshād\n",
      "1\n",
      "zajal\n",
      "7\n",
      "tawshīḥ\n",
      "2\n",
      "unidentified\n",
      "2\n",
      "qaṣīdah\n",
      "1\n"
     ]
    },
    {
     "data": {
      "text/plain": [
       "'tsv_files/transliterated/70c04adf-b886-4d62-a88a-abdde5d93715.tsv'"
      ]
     },
     "metadata": {},
     "output_type": "display_data"
    },
    {
     "name": "stdout",
     "output_type": "stream",
     "text": [
      "al-ṣan‘ah\n",
      "9\n",
      "unidentified\n",
      "1\n",
      "zajal\n",
      "6\n",
      "tawshīḥ\n",
      "3\n",
      "unidentified\n",
      "1\n"
     ]
    }
   ],
   "source": [
    "path = os.getcwd()\n",
    "\n",
    "original_files = sorted(glob.glob(\"tsv_files/original/*.tsv\"))\n",
    "transliterated_files = sorted(glob.glob(\"tsv_files/transliterated/*.tsv\"))\n",
    "\n",
    "outputdir_transliterated = 'json_files/transliterated/'\n",
    "outputdir_original = 'json_files/original/'\n",
    "\n",
    "if not os.path.isdir(outputdir_transliterated):\n",
    "    os.makedirs(outputdir_transliterated)\n",
    "    \n",
    "if not os.path.isdir(outputdir_original):\n",
    "    os.makedirs(outputdir_original)\n",
    "\n",
    "processed_original_files = []\n",
    "processed_transliterated_files = []\n",
    "\n",
    "for filename in original_files:\n",
    "    mbid = filename[filename.rfind(\"/\")+1:filename.rfind(\".\")]\n",
    "    f = codecs.open(filename, \"r\", \"utf-8\")\n",
    "    (recording_sanas, sana_types, poem_types) = tsv_to_json(f, 'o')\n",
    "    f.close()\n",
    "    json.dump(recording_sanas, codecs.open(\"json_files/original/%s.json\" % mbid, \"w+\", \"utf-8\"))\n",
    "    processed_original_files.append(filename)\n",
    "    display(filename)\n",
    "    \n",
    "    for stype, freq in sorted(sana_types.items(), key=lambda x: x[1], reverse=True):\n",
    "        print(stype)\n",
    "        print(freq)\n",
    "\n",
    "    for ptype, freq in sorted(poem_types.items(), key=lambda x: x[1], reverse=True):\n",
    "        print(ptype)\n",
    "        print(freq)\n",
    "        \n",
    "for filename in transliterated_files:\n",
    "    mbid = filename[filename.rfind(\"/\")+1:filename.rfind(\".\")]\n",
    "    f = codecs.open(filename, \"r\", \"utf-8\")\n",
    "    (recording_sanas, sana_types, poem_types) = tsv_to_json(f, 't')\n",
    "    f.close()\n",
    "    json.dump(recording_sanas, codecs.open(\"json_files/transliterated/%s.json\" % mbid, \"w+\", \"utf-8\"))\n",
    "    processed_transliterated_files.append(filename)\n",
    "    display(filename)\n",
    "    \n",
    "    for stype, freq in sorted(sana_types.items(), key=lambda x: x[1], reverse=True):\n",
    "        print(stype)\n",
    "        print(freq)\n",
    "\n",
    "    for ptype, freq in sorted(poem_types.items(), key=lambda x: x[1], reverse=True):\n",
    "        print(ptype)\n",
    "        print(freq)"
   ]
  },
  {
   "cell_type": "code",
   "execution_count": null,
   "metadata": {},
   "outputs": [],
   "source": []
  }
 ],
 "metadata": {
  "kernelspec": {
   "display_name": "Python 3",
   "language": "python",
   "name": "python3"
  },
  "language_info": {
   "codemirror_mode": {
    "name": "ipython",
    "version": 3
   },
   "file_extension": ".py",
   "mimetype": "text/x-python",
   "name": "python",
   "nbconvert_exporter": "python",
   "pygments_lexer": "ipython3",
   "version": "3.7.2"
  }
 },
 "nbformat": 4,
 "nbformat_minor": 2
}
