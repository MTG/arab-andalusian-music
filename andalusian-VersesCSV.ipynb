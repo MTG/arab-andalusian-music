{
 "cells": [
  {
   "cell_type": "markdown",
   "metadata": {},
   "source": [
    "# Jupyter Notebook to make CSV of the annotated recordings"
   ]
  },
  {
   "cell_type": "markdown",
   "metadata": {},
   "source": [
    "Create a CSV file with the annotated information of the recordings from the Arab-Andalusian dataset.  \n",
    "(Work in progress)  \n",
    "The poetry form is not filled yet"
   ]
  },
  {
   "cell_type": "code",
   "execution_count": 81,
   "metadata": {},
   "outputs": [
    {
     "name": "stdout",
     "output_type": "stream",
     "text": [
      "The autoreload extension is already loaded. To reload it, use:\n",
      "  %reload_ext autoreload\n"
     ]
    }
   ],
   "source": [
    "%load_ext autoreload\n",
    "\n",
    "%autoreload 2"
   ]
  },
  {
   "cell_type": "code",
   "execution_count": 2,
   "metadata": {},
   "outputs": [],
   "source": [
    "import sys\n",
    "import os\n",
    "import csv\n",
    "from compmusic import dunya\n",
    "sys.path.append('src/')\n",
    "import model\n",
    "\n",
    "apipath = 'api/andalusian/recording/'\n",
    "dunya.set_token('<SET_YOUR_TOKEN_HERE>')"
   ]
  },
  {
   "cell_type": "code",
   "execution_count": 3,
   "metadata": {},
   "outputs": [],
   "source": [
    "mbids=['a451a7fc-c53f-462a-b3fc-4377bb588105','8842c1f0-e261-4069-bd59-768bb9a3315c', 'f7bcb9af-6abb-4192-ae3d-37fa811034ce', 'b11237b9-d45b-4b3a-a97b-ab7d198f927f']\n",
    "def extract_orchestra_name(info):\n",
    "    return info['archive_url'][27:].split('_')[0]\n",
    "def extract_mizan_name(info):\n",
    "    return info['sections'][1]['mizan']['transliterated_name']"
   ]
  },
  {
   "cell_type": "code",
   "execution_count": 6,
   "metadata": {},
   "outputs": [
    {
     "name": "stdout",
     "output_type": "stream",
     "text": [
      "a451a7fc-c53f-462a-b3fc-4377bb588105: \n",
      "Qasida : [1]\n",
      "Moaxaja : [2, 3]\n",
      "Zejel : [0, 4, 5, 6, 7, 8, 9, 10]\n",
      "Barwala : []\n",
      "\n",
      "\n",
      "8842c1f0-e261-4069-bd59-768bb9a3315c: \n",
      "Qasida : [0]\n",
      "Moaxaja : []\n",
      "Zejel : [2, 4, 5, 6, 7, 8, 9, 10]\n",
      "Barwala : [1, 3]\n",
      "\n",
      "\n",
      "f7bcb9af-6abb-4192-ae3d-37fa811034ce: \n",
      "Qasida : [0, 2, 10]\n",
      "Moaxaja : [3, 13]\n",
      "Zejel : [4, 5, 6, 7, 8, 9, 11, 12, 14]\n",
      "Barwala : [1]\n",
      "\n",
      "\n",
      "b11237b9-d45b-4b3a-a97b-ab7d198f927f: \n",
      "Qasida : [0, 1, 4, 12]\n",
      "Moaxaja : [3, 13]\n",
      "Zejel : [2, 5, 7, 8, 9, 10, 11, 14]\n",
      "Barwala : []\n",
      "\n",
      "\n"
     ]
    }
   ],
   "source": [
    "with open('arab_andalusian_verses.csv', 'w') as csvfile:\n",
    "        filewriter = csv.writer(csvfile, delimiter=',',\n",
    "                            quotechar='|', quoting=csv.QUOTE_MINIMAL)\n",
    "        filewriter.writerow(['mbid', 'verse_name','poetry_form','t_s','t_e','score_s','score_e','mizan','orchestra','lyric'])\n",
    "        for mbid in mbids:\n",
    "            info = dunya.conn._dunya_query_json(apipath + mbid)\n",
    "            # Compute type of poetry form each sanaa\n",
    "            fn1 = os.path.join('sanaa_lyrics/transliterated/tsv',mbid+'.tsv')\n",
    "            poetry_form = model.extract_poetry(fn1)\n",
    "\n",
    "            #Compute verses onsets from Textgrid file\n",
    "            fn2 = os.path.join('Textgrid', mbid + '.TextGrid') # Set path where the textgrid file is\n",
    "            data_matrix = model.extract_data_matrix(fn2)\n",
    "\n",
    "            #Compute verses onsets from score file\n",
    "            fn3 = os.path.join('score_segmented', mbid + '-segmented.musicxml')\n",
    "            verses_filt = model.extract_verses_score(fn3)\n",
    "\n",
    "            # Compare the  lyric list and the verse list and check if they have same length, in a case some \n",
    "            # of them has one extra section\n",
    "            matrix_for_csv=[]\n",
    "            for d in data_matrix:\n",
    "                for v in verses_filt:\n",
    "                    if d[0] == v[0]:\n",
    "                        matrix_for_csv.append([d[0],d[1], d[2], d[3], v[1],v[2]])\n",
    "\n",
    "            # Write the data in CSV:\n",
    "            for x in matrix_for_csv:\n",
    "                filewriter.writerow([mbid,x[0],' ',x[2],x[3],x[4],x[5],extract_mizan_name(info), extract_orchestra_name(info), x[1]])\n",
    "            \n",
    "            print(mbid+': ')\n",
    "            for key in poetry_form:\n",
    "                print (key,':',poetry_form[key])\n",
    "            print('\\n')\n",
    "    \n",
    "   "
   ]
  }
 ],
 "metadata": {
  "kernelspec": {
   "display_name": "Python 3",
   "language": "python",
   "name": "python3"
  },
  "language_info": {
   "codemirror_mode": {
    "name": "ipython",
    "version": 3
   },
   "file_extension": ".py",
   "mimetype": "text/x-python",
   "name": "python",
   "nbconvert_exporter": "python",
   "pygments_lexer": "ipython3",
   "version": "3.6.6"
  }
 },
 "nbformat": 4,
 "nbformat_minor": 2
}
