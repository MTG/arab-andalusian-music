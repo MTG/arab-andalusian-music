{
 "cells": [
  {
   "cell_type": "markdown",
   "metadata": {},
   "source": [
    "# From tsv to JSON for original and transliterated files\n",
    "\n",
    "This notebook converts the sanai lyrics tsv files to JSON files, for both tsvs in transliterated and original script."
   ]
  },
  {
   "cell_type": "markdown",
   "metadata": {},
   "source": [
    "## Prerequisites\n",
    "1. Input Format:\n",
    "    The expected formats of the tsv files is the that output from the 1) docx_to_tsv notebook.\n",
    "2. Paths: \n",
    "    original script tsv files should be placed in data/original/tsv, and transliterated tsvs should be placed in data/transliterated/tsv. \n",
    "    "
   ]
  },
  {
   "cell_type": "markdown",
   "metadata": {},
   "source": [
    "## Output JSON Format\n",
    "\n",
    "don't forget to put the mag-houl or missing type.\n",
    "when it is the first row of the sanaa, we can set the 'identifier' as the first data cell section\n",
    "\n",
    "first item is the sanaa type, the name is slightly misleading, it refers to the type of the text, whether it is a sanaa, a mawwal, or an inshad. \n",
    "\n",
    "exception to the format dotting rule is that sometimes the length of the array after splitting based on dots is 1, and therefore. \n",
    "\n",
    "stype could be a sanaa, or tawshiyat al mizan. \n",
    "\n",
    "For tawshiyat al mizan, the identifier could be empty (in cases where there are no lyrics indicated for the tawshiya) or could have the first line section (if there are lyrics).\n",
    "\n",
    "The data for each line in the sanaa is an array of at least 2 entries. First one is either a numeric entry representing the cycles in which that line is performed. If the numeric entry is not present (due to missing data at the time of the lyrics corpus creaton), then at least an empty string will be present in place of the first entry.\n",
    "After that entry, one or more lyrics line sections are present, each as its own string entry in the array corresponding to a line.\n",
    "\n",
    "The word sanaa is used (in variable names etc), but it should be noted that technically speaking, we can be currently processing a sanaa, a tawshiya, an inshad, or a mawwal. So the use of recording_sanas as a variable should not confuse the user. At the end this array will have all the elements that appeared in the lyrics of the recording.\n",
    "\n",
    "The 'section' entry in the dictionary corresponding to a sanaa/inshad/mawwal takes the format of [ [ [line], [line] ] ]]. It's an array of sections, where each section is an array of lines. given that each line is in itself an array, this makes the section entry a 3D array.\n",
    "\n",
    "Be aware that sometimes spacing between words in arabic could cause substring mismatches and eventually cause bugs. For example, (tawshiyat al mizan) is without spaces. When creating the lyrics files, check this notebook to see which keywords are expected in which format to make sure the script works correctly.\n",
    "\n",
    "Note that the metadata.tsv of the github repository is different than the metadata.tsv of the lyrics corpus, because while the former should have metadata on all the recordings that have been processed by the MTG (whether they have lyrics or not) the metadata.tsv of the lyrics corpus are only those that correspond to lyrics files. \n",
    "\n",
    "1. Lyrics\n",
    "\n",
    "(a) Hijaz Mshrqi, Darj: b018d0fd-9955-47bb-9ef2-d291f500eebe\n",
    "\n",
    "i. 2 Sanaas are missing\n",
    "\n",
    "ii. One sanaa was retrieved from the book under Qaim wa Nisf (specifically awqadta fih)\n",
    "\n",
    "iii. 2 Sanaas are from Bassit (ya qawmi and fi almalih)\n",
    "\n",
    "iv. There are 4 unknown minutes between the end of unzur ila (36:56) and the beginning of fil malih. The score indicates it is a Sanaa called ya qawmi but that is not the case\n",
    "\n",
    "v. The last 4 sanaas are from btayhi (koll yawm, saqeit ka's elhawa, min 3ando khal, bimuhjati)\n",
    "\n",
    "(b) Hijaz Mshrqi, 64eb6302-34ec-4434-a004-4e7e503c3e6c\n",
    "\n",
    "i. Lyrics file could almost be a subset of a1782 (so were derived from it), but I was unable to detect the last sanaa\n",
    "\n",
    "(c) Quddam Istihlal: 2d2683c4-4b3e-4430-a254-c828427bdcc7\n",
    "\n",
    "i. Only the mawwal at the beginning was inserted\n",
    "\n",
    "(d) Rasd: bb7adfee-f63d-4004-a457-b31ae784a0bd\n",
    "\n",
    "i. missing inshad in lyrics file\n",
    "\n",
    "(e) 0fb722f6-35a3-436b-9316-4c2de2b86cc7: first sanaa unknown. \n",
    "\n",
    "(f) c1e0311e-ee21-470c-b6f9-815d892cf6c9: needs completion"
   ]
  },
  {
   "cell_type": "code",
   "execution_count": 7,
   "metadata": {},
   "outputs": [],
   "source": [
    "import sys, glob, json, shutil, codecs, platform\n",
    "import pandas as pd\n",
    "import ArabicTransliterator\n",
    "\n",
    "from IPython.display import display, HTML"
   ]
  },
  {
   "cell_type": "code",
   "execution_count": null,
   "metadata": {},
   "outputs": [],
   "source": []
  },
  {
   "cell_type": "markdown",
   "metadata": {},
   "source": [
    "## JSON Conversion"
   ]
  },
  {
   "cell_type": "markdown",
   "metadata": {},
   "source": [
    "s is either a file stream or a string stream. \n",
    "v indicates whether we are using the original or transliterated version of the lyrics, where 'o' refers to the original and 't' refers to the transliterated. The need to have the transliteration status as an input is because some provisions are needed in order to handle some exceptions/missing items in the corpus, and in those cases words from the files need to be checked."
   ]
  },
  {
   "cell_type": "code",
   "execution_count": 8,
   "metadata": {},
   "outputs": [],
   "source": [
    "def strip_digits(s):\n",
    "    return ''.join([i for i in s if not i.isdigit()])\n",
    "\n",
    "def tsv_to_json(s, v):\n",
    "    recording_sanas = []\n",
    "    keywords = {'o' : {'type1' :['توشية الميزان', 'توشيةالميزان', 'الصنعة', 'إنشاد', 'موال', 'صنعة', 'توشيةالنوبة'], 'type2' : [\"توشية\"] } , \n",
    "                't': {'type1' : [\"tawshīt al-mīzān\", \"tawshīt al-mīzān\", \"al-ṣan‘ah\", \"inshād\", \"mawwāl\", \"ṣan‘ah\", \"tawshīt al-nūbah\"], 'type2' : [\"tawshīya\"] } }\n",
    "    missing = {'o' : 'مجهول', 't' : 'unidentified'}\n",
    "    known_ptypes = {'t': ['zajal','qaṣīdah', 'tawshīḥ', 'birūlatin', 'birūālatin', 'tawshīḥun', 'qaṣīdatun'], 'o' : ['زجل', 'قصيدة', 'توشيح', 'برولة']}\n",
    "    \n",
    "    poem_types, sana_types = {}, {}\n",
    "    for line in s:\n",
    "        data = line.strip('\\r\\n').rstrip('\\t').split(\"\\t\")\n",
    "        if len(data) == 1:       #if no tabs found\n",
    "            if len(data[0]) > 0: #and non empty line\n",
    "                title = data[0].strip('\\r\\n').split(\".\")\n",
    "                stype, ptype = \"\", \"\"\n",
    "                stype = strip_digits(title[0]).strip()  \n",
    "                \n",
    "                if stype not in keywords[v]['type1']:\n",
    "                    stype = missing[v]     \n",
    "                sana_types.setdefault(stype, 0)\n",
    "                sana_types[stype] += 1\n",
    "            \n",
    "                ptype_matches = [p for p in known_ptypes[v] if p in line] #if more than 1 match, we use first.\n",
    "            \n",
    "                if len(ptype_matches) > 0:\n",
    "                    ptype = ptype_matches[0]\n",
    "                else:\n",
    "                    ptype = missing[v]\n",
    "                poem_types.setdefault(ptype, 0)\n",
    "                poem_types[ptype] += 1\n",
    "                \n",
    "                recording_sanas.append({\"title\": data[0].strip(), \"sections\": [[]], \"type\": stype, \"identifier\": \"\", \"poem\" : ptype})\n",
    "                \n",
    "            else: \n",
    "                recording_sanas[-1]['sections'].append([])\n",
    "              \n",
    "        elif len(data) == 2 and (data[1] == keywords[v]['type1'][0] or data[1] == keywords[v]['type1'][1]): #\"tawshīt al-mīzān\" or its arabic script equiv.\n",
    "            stype = data[1]\n",
    "            recording_sanas.append({\"title\": data[1].strip(), \"sections\": [[]], \"type\": stype, \"identifier\": \"\", \"poem\" : \"\"})\n",
    "    \n",
    "        elif len(data) >= 2: #line in a sanaa body\n",
    "            if(len(recording_sanas[-1]['sections'][0])) == 0: #if this is the first row in the sanaa\n",
    "                recording_sanas[-1]['identifier'] = data[1] \n",
    "            recording_sanas[-1]['sections'][-1].append(data)\n",
    "             \n",
    "    #some post-processing\n",
    "    for i in range(len(recording_sanas)): \n",
    "        if len(recording_sanas[i]['sections'][-1]) == 0: #remove empty sections in a recording if found.. \n",
    "            recording_sanas[i]['sections'] = recording_sanas[i]['sections'][:-1]\n",
    "        if recording_sanas[i]['identifier'] == keywords[v]['type2'][0]:  #if the identifier is a tawshiya, take the following line section\n",
    "            if len(recording_sanas[i]['sections'][0][0]) > 1: \n",
    "                recording_sanas[i]['identifier'] = recording_sanas[i]['sections'][0][0][1]\n",
    "    \n",
    "    return (recording_sanas, sana_types, poem_types)"
   ]
  },
  {
   "cell_type": "markdown",
   "metadata": {},
   "source": [
    "This cell concerns the loading of files, and the actual tsv to json conversion, both when in original and transliterated formats"
   ]
  },
  {
   "cell_type": "code",
   "execution_count": 9,
   "metadata": {},
   "outputs": [
    {
     "data": {
      "text/plain": [
       "'data/original/tsv/023b4a37-1ab4-4593-b03a-850ee0db8350.tsv'"
      ]
     },
     "metadata": {},
     "output_type": "display_data"
    },
    {
     "name": "stdout",
     "output_type": "stream",
     "text": [
      "الصنعة\n",
      "16\n",
      "زجل\n",
      "8\n",
      "توشيح\n",
      "6\n",
      "قصيدة\n",
      "2\n"
     ]
    },
    {
     "data": {
      "text/plain": [
       "'data/original/tsv/02b76946-deec-48cf-9007-770c37b6c3cc.tsv'"
      ]
     },
     "metadata": {},
     "output_type": "display_data"
    },
    {
     "name": "stdout",
     "output_type": "stream",
     "text": [
      "الصنعة\n",
      "10\n",
      "زجل\n",
      "6\n",
      "توشيح\n",
      "3\n",
      "قصيدة\n",
      "1\n"
     ]
    },
    {
     "data": {
      "text/plain": [
       "'data/original/tsv/03e555c6-a480-4e11-aef7-231891c4f4e6.tsv'"
      ]
     },
     "metadata": {},
     "output_type": "display_data"
    },
    {
     "name": "stdout",
     "output_type": "stream",
     "text": [
      "الصنعة\n",
      "6\n",
      "إنشاد\n",
      "1\n",
      "توشيح\n",
      "3\n",
      "زجل\n",
      "3\n",
      "مجهول\n",
      "1\n"
     ]
    },
    {
     "data": {
      "text/plain": [
       "'data/original/tsv/04b42450-8838-4a20-9e79-d42f03f8cc51.tsv'"
      ]
     },
     "metadata": {},
     "output_type": "display_data"
    },
    {
     "name": "stdout",
     "output_type": "stream",
     "text": [
      "الصنعة\n",
      "9\n",
      "زجل\n",
      "6\n",
      "مجهول\n",
      "2\n",
      "قصيدة\n",
      "1\n"
     ]
    },
    {
     "data": {
      "text/plain": [
       "'data/original/tsv/07ee1daa-3bac-4bb8-922e-36729c11fc3a.tsv'"
      ]
     },
     "metadata": {},
     "output_type": "display_data"
    },
    {
     "name": "stdout",
     "output_type": "stream",
     "text": [
      "الصنعة\n",
      "12\n",
      "إنشاد\n",
      "1\n",
      "زجل\n",
      "5\n",
      "توشيح\n",
      "3\n",
      "مجهول\n",
      "3\n",
      "قصيدة\n",
      "2\n"
     ]
    },
    {
     "data": {
      "text/plain": [
       "'data/original/tsv/0909c62d-7eb7-4976-b125-c20c12cc15a1.tsv'"
      ]
     },
     "metadata": {},
     "output_type": "display_data"
    },
    {
     "name": "stdout",
     "output_type": "stream",
     "text": [
      "الصنعة\n",
      "7\n",
      "إنشاد\n",
      "1\n",
      "زجل\n",
      "4\n",
      "توشيح\n",
      "2\n",
      "مجهول\n",
      "1\n",
      "قصيدة\n",
      "1\n"
     ]
    },
    {
     "data": {
      "text/plain": [
       "'data/original/tsv/0d1d3cff-e68e-403d-bb3f-caca302bf5ab.tsv'"
      ]
     },
     "metadata": {},
     "output_type": "display_data"
    },
    {
     "name": "stdout",
     "output_type": "stream",
     "text": [
      "الصنعة\n",
      "7\n",
      "إنشاد\n",
      "1\n",
      "زجل\n",
      "6\n",
      "قصيدة\n",
      "1\n",
      "مجهول\n",
      "1\n"
     ]
    },
    {
     "data": {
      "text/plain": [
       "'data/original/tsv/0fb722f6-35a3-436b-9316-4c2de2b86cc7.tsv'"
      ]
     },
     "metadata": {},
     "output_type": "display_data"
    },
    {
     "name": "stdout",
     "output_type": "stream",
     "text": [
      "الصنعة\n",
      "11\n",
      "إنشاد\n",
      "1\n",
      "زجل\n",
      "6\n",
      "مجهول\n",
      "2\n",
      "قصيدة\n",
      "2\n",
      "توشيح\n",
      "2\n"
     ]
    },
    {
     "data": {
      "text/plain": [
       "'data/original/tsv/12ce112f-38ed-4700-94ec-a329d06f6196.tsv'"
      ]
     },
     "metadata": {},
     "output_type": "display_data"
    },
    {
     "name": "stdout",
     "output_type": "stream",
     "text": [
      "الصنعة\n",
      "9\n",
      "توشيح\n",
      "4\n",
      "زجل\n",
      "4\n",
      "مجهول\n",
      "1\n"
     ]
    },
    {
     "data": {
      "text/plain": [
       "'data/original/tsv/13a8d4b9-8dbf-40c0-98df-db64791e43a9.tsv'"
      ]
     },
     "metadata": {},
     "output_type": "display_data"
    },
    {
     "name": "stdout",
     "output_type": "stream",
     "text": [
      "الصنعة\n",
      "9\n",
      "مجهول\n",
      "1\n",
      "إنشاد\n",
      "1\n",
      "توشيح\n",
      "4\n",
      "زجل\n",
      "3\n",
      "مجهول\n",
      "2\n",
      "قصيدة\n",
      "2\n"
     ]
    },
    {
     "data": {
      "text/plain": [
       "'data/original/tsv/1630e9c2-3c01-4959-a633-7dbacbc7616e.tsv'"
      ]
     },
     "metadata": {},
     "output_type": "display_data"
    },
    {
     "name": "stdout",
     "output_type": "stream",
     "text": [
      "الصنعة\n",
      "12\n",
      "إنشاد\n",
      "1\n",
      "زجل\n",
      "10\n",
      "مجهول\n",
      "2\n",
      "توشيح\n",
      "1\n"
     ]
    },
    {
     "data": {
      "text/plain": [
       "'data/original/tsv/1f623914-8002-4866-8a6e-4dc684e848d9.tsv'"
      ]
     },
     "metadata": {},
     "output_type": "display_data"
    },
    {
     "name": "stdout",
     "output_type": "stream",
     "text": [
      "الصنعة\n",
      "10\n",
      "إنشاد\n",
      "1\n",
      "زجل\n",
      "6\n",
      "توشيح\n",
      "3\n",
      "قصيدة\n",
      "1\n",
      "مجهول\n",
      "1\n"
     ]
    },
    {
     "data": {
      "text/plain": [
       "'data/original/tsv/1ffa4dee-b08e-4332-a2ab-9843c13c3dfa.tsv'"
      ]
     },
     "metadata": {},
     "output_type": "display_data"
    },
    {
     "name": "stdout",
     "output_type": "stream",
     "text": [
      "الصنعة\n",
      "14\n",
      "إنشاد\n",
      "1\n",
      "زجل\n",
      "6\n",
      "توشيح\n",
      "4\n",
      "قصيدة\n",
      "3\n",
      "مجهول\n",
      "2\n"
     ]
    },
    {
     "data": {
      "text/plain": [
       "'data/original/tsv/2083676f-c26b-4e2e-8324-1b571e729521.tsv'"
      ]
     },
     "metadata": {},
     "output_type": "display_data"
    },
    {
     "name": "stdout",
     "output_type": "stream",
     "text": [
      "الصنعة\n",
      "6\n",
      "قصيدة\n",
      "3\n",
      "زجل\n",
      "2\n",
      "توشيح\n",
      "1\n"
     ]
    },
    {
     "data": {
      "text/plain": [
       "'data/original/tsv/224bfb11-f761-4976-bc71-42d9805e5d63.tsv'"
      ]
     },
     "metadata": {},
     "output_type": "display_data"
    },
    {
     "name": "stdout",
     "output_type": "stream",
     "text": [
      "الصنعة\n",
      "10\n",
      "زجل\n",
      "8\n",
      "توشيح\n",
      "1\n",
      "قصيدة\n",
      "1\n"
     ]
    },
    {
     "data": {
      "text/plain": [
       "'data/original/tsv/25857838-1a8a-4102-a818-88bca8be5cf6.tsv'"
      ]
     },
     "metadata": {},
     "output_type": "display_data"
    },
    {
     "name": "stdout",
     "output_type": "stream",
     "text": [
      "الصنعة\n",
      "9\n",
      "مجهول\n",
      "2\n",
      "إنشاد\n",
      "1\n",
      "توشيح\n",
      "4\n",
      "قصيدة\n",
      "3\n",
      "مجهول\n",
      "3\n",
      "زجل\n",
      "2\n"
     ]
    },
    {
     "data": {
      "text/plain": [
       "'data/original/tsv/263f2386-1081-4307-b686-1c99c2f31fa1.tsv'"
      ]
     },
     "metadata": {},
     "output_type": "display_data"
    },
    {
     "name": "stdout",
     "output_type": "stream",
     "text": [
      "الصنعة\n",
      "15\n",
      "زجل\n",
      "7\n",
      "قصيدة\n",
      "4\n",
      "توشيح\n",
      "2\n",
      "مجهول\n",
      "2\n"
     ]
    },
    {
     "data": {
      "text/plain": [
       "'data/original/tsv/277bc427-16dd-4468-9f4c-16945ffc3b30.tsv'"
      ]
     },
     "metadata": {},
     "output_type": "display_data"
    },
    {
     "name": "stdout",
     "output_type": "stream",
     "text": [
      "الصنعة\n",
      "11\n",
      "إنشاد\n",
      "1\n",
      "زجل\n",
      "8\n",
      "توشيح\n",
      "2\n",
      "مجهول\n",
      "1\n",
      "قصيدة\n",
      "1\n"
     ]
    },
    {
     "data": {
      "text/plain": [
       "'data/original/tsv/2bf90ba7-210f-4210-b986-dbf57edcf861.tsv'"
      ]
     },
     "metadata": {},
     "output_type": "display_data"
    },
    {
     "name": "stdout",
     "output_type": "stream",
     "text": [
      "الصنعة\n",
      "9\n",
      "موال\n",
      "1\n",
      "زجل\n",
      "5\n",
      "مجهول\n",
      "3\n",
      "توشيح\n",
      "2\n"
     ]
    },
    {
     "data": {
      "text/plain": [
       "'data/original/tsv/2c44caec-ea8c-474b-9dda-c55c660df969.tsv'"
      ]
     },
     "metadata": {},
     "output_type": "display_data"
    },
    {
     "name": "stdout",
     "output_type": "stream",
     "text": [
      "الصنعة\n",
      "16\n",
      "مجهول\n",
      "1\n",
      "إنشاد\n",
      "1\n",
      "زجل\n",
      "9\n",
      "توشيح\n",
      "4\n",
      "مجهول\n",
      "3\n",
      "قصيدة\n",
      "2\n"
     ]
    },
    {
     "data": {
      "text/plain": [
       "'data/original/tsv/2cf367de-583b-4bd6-83f3-fc036fe19fab.tsv'"
      ]
     },
     "metadata": {},
     "output_type": "display_data"
    },
    {
     "name": "stdout",
     "output_type": "stream",
     "text": [
      "الصنعة\n",
      "9\n",
      "توشيح\n",
      "4\n",
      "قصيدة\n",
      "3\n",
      "زجل\n",
      "2\n"
     ]
    },
    {
     "data": {
      "text/plain": [
       "'data/original/tsv/2d2683c4-4b3e-4430-a254-c828427bdcc7.tsv'"
      ]
     },
     "metadata": {},
     "output_type": "display_data"
    },
    {
     "name": "stdout",
     "output_type": "stream",
     "text": [
      "موال\n",
      "1\n",
      "الصنعة\n",
      "1\n",
      "مجهول\n",
      "1\n",
      "زجل\n",
      "1\n"
     ]
    },
    {
     "data": {
      "text/plain": [
       "'data/original/tsv/2d91d7e4-904a-46b7-bce2-230ca4e1b1c4.tsv'"
      ]
     },
     "metadata": {},
     "output_type": "display_data"
    },
    {
     "name": "stdout",
     "output_type": "stream",
     "text": [
      "الصنعة\n",
      "10\n",
      "إنشاد\n",
      "1\n",
      "توشيح\n",
      "6\n",
      "قصيدة\n",
      "2\n",
      "زجل\n",
      "2\n",
      "مجهول\n",
      "1\n"
     ]
    },
    {
     "data": {
      "text/plain": [
       "'data/original/tsv/33423585-e406-40ec-ba28-88b0768cb668.tsv'"
      ]
     },
     "metadata": {},
     "output_type": "display_data"
    },
    {
     "name": "stdout",
     "output_type": "stream",
     "text": [
      "الصنعة\n",
      "11\n",
      "إنشاد\n",
      "1\n",
      "زجل\n",
      "6\n",
      "توشيح\n",
      "4\n",
      "مجهول\n",
      "1\n",
      "قصيدة\n",
      "1\n"
     ]
    },
    {
     "data": {
      "text/plain": [
       "'data/original/tsv/36822512-b1c8-42aa-9e55-fe9d10560371.tsv'"
      ]
     },
     "metadata": {},
     "output_type": "display_data"
    },
    {
     "name": "stdout",
     "output_type": "stream",
     "text": [
      "الصنعة\n",
      "5\n",
      "توشيح\n",
      "4\n",
      "قصيدة\n",
      "1\n"
     ]
    },
    {
     "data": {
      "text/plain": [
       "'data/original/tsv/3a578e21-46bb-47f2-9a4d-7cd738f0dd5b.tsv'"
      ]
     },
     "metadata": {},
     "output_type": "display_data"
    },
    {
     "name": "stdout",
     "output_type": "stream",
     "text": [
      "الصنعة\n",
      "11\n",
      "زجل\n",
      "7\n",
      "قصيدة\n",
      "3\n",
      "توشيح\n",
      "1\n"
     ]
    },
    {
     "data": {
      "text/plain": [
       "'data/original/tsv/3b8d2e45-3bfd-4596-bcc0-addc64551eda.tsv'"
      ]
     },
     "metadata": {},
     "output_type": "display_data"
    },
    {
     "name": "stdout",
     "output_type": "stream",
     "text": [
      "الصنعة\n",
      "17\n",
      "إنشاد\n",
      "1\n",
      "زجل\n",
      "14\n",
      "توشيح\n",
      "2\n",
      "مجهول\n",
      "1\n",
      "قصيدة\n",
      "1\n"
     ]
    },
    {
     "data": {
      "text/plain": [
       "'data/original/tsv/3bb348f5-417d-4646-9041-42b935c54c28.tsv'"
      ]
     },
     "metadata": {},
     "output_type": "display_data"
    },
    {
     "name": "stdout",
     "output_type": "stream",
     "text": [
      "الصنعة\n",
      "9\n",
      "إنشاد\n",
      "1\n",
      "زجل\n",
      "8\n",
      "مجهول\n",
      "1\n",
      "قصيدة\n",
      "1\n"
     ]
    },
    {
     "data": {
      "text/plain": [
       "'data/original/tsv/3e39495a-443d-483d-93d7-cdf96248c374.tsv'"
      ]
     },
     "metadata": {},
     "output_type": "display_data"
    },
    {
     "name": "stdout",
     "output_type": "stream",
     "text": [
      "الصنعة\n",
      "11\n",
      "زجل\n",
      "7\n",
      "توشيح\n",
      "2\n",
      "قصيدة\n",
      "2\n"
     ]
    },
    {
     "data": {
      "text/plain": [
       "'data/original/tsv/3e5a82a2-d806-45cc-876e-6fa8a2b5a61d.tsv'"
      ]
     },
     "metadata": {},
     "output_type": "display_data"
    },
    {
     "name": "stdout",
     "output_type": "stream",
     "text": [
      "الصنعة\n",
      "7\n",
      "موال\n",
      "1\n",
      "زجل\n",
      "3\n",
      "قصيدة\n",
      "2\n",
      "مجهول\n",
      "2\n",
      "توشيح\n",
      "1\n"
     ]
    },
    {
     "data": {
      "text/plain": [
       "'data/original/tsv/3fb6107c-13be-4006-851a-a857ed2f80bb.tsv'"
      ]
     },
     "metadata": {},
     "output_type": "display_data"
    },
    {
     "name": "stdout",
     "output_type": "stream",
     "text": [
      "الصنعة\n",
      "10\n",
      "مجهول\n",
      "1\n",
      "إنشاد\n",
      "1\n",
      "زجل\n",
      "7\n",
      "توشيح\n",
      "2\n",
      "مجهول\n",
      "2\n",
      "قصيدة\n",
      "1\n"
     ]
    },
    {
     "data": {
      "text/plain": [
       "'data/original/tsv/44183247-4857-40cd-82bc-b4e9e3f458f1.tsv'"
      ]
     },
     "metadata": {},
     "output_type": "display_data"
    },
    {
     "name": "stdout",
     "output_type": "stream",
     "text": [
      "الصنعة\n",
      "7\n",
      "موال\n",
      "1\n",
      "زجل\n",
      "3\n",
      "قصيدة\n",
      "2\n",
      "مجهول\n",
      "2\n",
      "توشيح\n",
      "1\n"
     ]
    },
    {
     "data": {
      "text/plain": [
       "'data/original/tsv/4644f251-c85c-47a4-a1a7-1ca264d3c5d8.tsv'"
      ]
     },
     "metadata": {},
     "output_type": "display_data"
    },
    {
     "name": "stdout",
     "output_type": "stream",
     "text": [
      "الصنعة\n",
      "2\n",
      "موال\n",
      "1\n",
      "زجل\n",
      "2\n",
      "مجهول\n",
      "1\n"
     ]
    },
    {
     "data": {
      "text/plain": [
       "'data/original/tsv/47a41543-89c7-40ad-a665-f7460ad4e4de.tsv'"
      ]
     },
     "metadata": {},
     "output_type": "display_data"
    },
    {
     "name": "stdout",
     "output_type": "stream",
     "text": [
      "الصنعة\n",
      "6\n",
      "زجل\n",
      "4\n",
      "قصيدة\n",
      "2\n"
     ]
    },
    {
     "data": {
      "text/plain": [
       "'data/original/tsv/4cfc03f4-9378-41d3-acd5-87b09c68d46b.tsv'"
      ]
     },
     "metadata": {},
     "output_type": "display_data"
    },
    {
     "name": "stdout",
     "output_type": "stream",
     "text": [
      "الصنعة\n",
      "10\n",
      "إنشاد\n",
      "1\n",
      "زجل\n",
      "6\n",
      "توشيح\n",
      "3\n",
      "قصيدة\n",
      "1\n",
      "مجهول\n",
      "1\n"
     ]
    },
    {
     "data": {
      "text/plain": [
       "'data/original/tsv/4ddff7dd-8916-4dc4-abdd-56ce12ea88ca.tsv'"
      ]
     },
     "metadata": {},
     "output_type": "display_data"
    },
    {
     "name": "stdout",
     "output_type": "stream",
     "text": [
      "الصنعة\n",
      "15\n",
      "مجهول\n",
      "1\n",
      "زجل\n",
      "10\n",
      "توشيح\n",
      "3\n",
      "قصيدة\n",
      "2\n",
      "مجهول\n",
      "1\n"
     ]
    },
    {
     "data": {
      "text/plain": [
       "'data/original/tsv/545dd98f-9667-4299-b967-71e0a2a3c883.tsv'"
      ]
     },
     "metadata": {},
     "output_type": "display_data"
    },
    {
     "name": "stdout",
     "output_type": "stream",
     "text": [
      "الصنعة\n",
      "10\n",
      "موال\n",
      "1\n",
      "زجل\n",
      "5\n",
      "توشيح\n",
      "4\n",
      "مجهول\n",
      "1\n",
      "قصيدة\n",
      "1\n"
     ]
    },
    {
     "data": {
      "text/plain": [
       "'data/original/tsv/56da9cc8-dbdf-4123-9f05-d866b8380d93.tsv'"
      ]
     },
     "metadata": {},
     "output_type": "display_data"
    },
    {
     "name": "stdout",
     "output_type": "stream",
     "text": [
      "الصنعة\n",
      "4\n",
      "إنشاد\n",
      "1\n",
      "زجل\n",
      "3\n",
      "مجهول\n",
      "1\n",
      "قصيدة\n",
      "1\n"
     ]
    },
    {
     "data": {
      "text/plain": [
       "'data/original/tsv/59fcb1d1-61f4-4cdc-9f7f-56757bf2400e.tsv'"
      ]
     },
     "metadata": {},
     "output_type": "display_data"
    },
    {
     "name": "stdout",
     "output_type": "stream",
     "text": [
      "الصنعة\n",
      "15\n",
      "زجل\n",
      "7\n",
      "قصيدة\n",
      "4\n",
      "مجهول\n",
      "3\n",
      "توشيح\n",
      "1\n"
     ]
    },
    {
     "data": {
      "text/plain": [
       "'data/original/tsv/62acb9e5-e311-40ab-9c5c-866d071b5c93.tsv'"
      ]
     },
     "metadata": {},
     "output_type": "display_data"
    },
    {
     "name": "stdout",
     "output_type": "stream",
     "text": [
      "الصنعة\n",
      "4\n",
      "إنشاد\n",
      "1\n",
      "زجل\n",
      "3\n",
      "مجهول\n",
      "1\n",
      "قصيدة\n",
      "1\n"
     ]
    },
    {
     "data": {
      "text/plain": [
       "'data/original/tsv/6311c0de-d66f-482d-8dd1-8d8917ca6a76.tsv'"
      ]
     },
     "metadata": {},
     "output_type": "display_data"
    },
    {
     "name": "stdout",
     "output_type": "stream",
     "text": [
      "الصنعة\n",
      "11\n",
      "إنشاد\n",
      "1\n",
      "توشيح\n",
      "5\n",
      "قصيدة\n",
      "4\n",
      "مجهول\n",
      "2\n",
      "زجل\n",
      "1\n"
     ]
    },
    {
     "data": {
      "text/plain": [
       "'data/original/tsv/64eb6302-34ec-4434-a004-4e7e503c3e6c.tsv'"
      ]
     },
     "metadata": {},
     "output_type": "display_data"
    },
    {
     "name": "stdout",
     "output_type": "stream",
     "text": [
      "الصنعة\n",
      "3\n",
      "مجهول\n",
      "1\n",
      "زجل\n",
      "3\n",
      "مجهول\n",
      "1\n"
     ]
    },
    {
     "data": {
      "text/plain": [
       "'data/original/tsv/679856bc-132f-4982-b04e-cbf6b5b1129b.tsv'"
      ]
     },
     "metadata": {},
     "output_type": "display_data"
    },
    {
     "name": "stdout",
     "output_type": "stream",
     "text": [
      "الصنعة\n",
      "11\n",
      "زجل\n",
      "6\n",
      "توشيح\n",
      "4\n",
      "قصيدة\n",
      "1\n"
     ]
    },
    {
     "data": {
      "text/plain": [
       "'data/original/tsv/689a2401-00b8-44f5-8107-76bfe75a36fe.tsv'"
      ]
     },
     "metadata": {},
     "output_type": "display_data"
    },
    {
     "name": "stdout",
     "output_type": "stream",
     "text": [
      "الصنعة\n",
      "16\n",
      "إنشاد\n",
      "1\n",
      "زجل\n",
      "8\n",
      "توشيح\n",
      "3\n",
      "قصيدة\n",
      "3\n",
      "مجهول\n",
      "3\n"
     ]
    },
    {
     "data": {
      "text/plain": [
       "'data/original/tsv/69ac4f1a-eca5-42eb-9f9c-a1c2316cb040.tsv'"
      ]
     },
     "metadata": {},
     "output_type": "display_data"
    },
    {
     "name": "stdout",
     "output_type": "stream",
     "text": [
      "الصنعة\n",
      "9\n",
      "إنشاد\n",
      "1\n",
      "زجل\n",
      "7\n",
      "قصيدة\n",
      "2\n",
      "مجهول\n",
      "1\n"
     ]
    },
    {
     "data": {
      "text/plain": [
       "'data/original/tsv/6aa540dc-e857-4115-9b90-a0480eb5316f.tsv'"
      ]
     },
     "metadata": {},
     "output_type": "display_data"
    },
    {
     "name": "stdout",
     "output_type": "stream",
     "text": [
      "الصنعة\n",
      "11\n",
      "توشيح\n",
      "7\n",
      "زجل\n",
      "3\n",
      "قصيدة\n",
      "1\n"
     ]
    },
    {
     "data": {
      "text/plain": [
       "'data/original/tsv/6fe7108c-4e4f-457b-a363-ccf505bdee9a.tsv'"
      ]
     },
     "metadata": {},
     "output_type": "display_data"
    },
    {
     "name": "stdout",
     "output_type": "stream",
     "text": [
      "الصنعة\n",
      "9\n",
      "زجل\n",
      "6\n",
      "توشيح\n",
      "2\n",
      "قصيدة\n",
      "1\n"
     ]
    },
    {
     "data": {
      "text/plain": [
       "'data/original/tsv/70c04adf-b886-4d62-a88a-abdde5d93715.tsv'"
      ]
     },
     "metadata": {},
     "output_type": "display_data"
    },
    {
     "name": "stdout",
     "output_type": "stream",
     "text": [
      "الصنعة\n",
      "9\n",
      "مجهول\n",
      "1\n",
      "زجل\n",
      "6\n",
      "توشيح\n",
      "3\n",
      "مجهول\n",
      "1\n"
     ]
    },
    {
     "data": {
      "text/plain": [
       "'data/original/tsv/719a2afc-461f-461e-ad18-8bce2c4f5023.tsv'"
      ]
     },
     "metadata": {},
     "output_type": "display_data"
    },
    {
     "name": "stdout",
     "output_type": "stream",
     "text": [
      "الصنعة\n",
      "6\n",
      "إنشاد\n",
      "1\n",
      "مجهول\n",
      "1\n",
      "مجهول\n",
      "3\n",
      "زجل\n",
      "3\n",
      "توشيح\n",
      "2\n"
     ]
    },
    {
     "data": {
      "text/plain": [
       "'data/original/tsv/73c4fd81-7464-4771-bd90-e3038dd633ef.tsv'"
      ]
     },
     "metadata": {},
     "output_type": "display_data"
    },
    {
     "name": "stdout",
     "output_type": "stream",
     "text": [
      "الصنعة\n",
      "11\n",
      "موال\n",
      "1\n",
      "مجهول\n",
      "1\n",
      "زجل\n",
      "9\n",
      "توشيح\n",
      "2\n",
      "مجهول\n",
      "2\n"
     ]
    },
    {
     "data": {
      "text/plain": [
       "'data/original/tsv/7448d9c2-5261-4e70-bd98-6ed8416f908f.tsv'"
      ]
     },
     "metadata": {},
     "output_type": "display_data"
    },
    {
     "name": "stdout",
     "output_type": "stream",
     "text": [
      "الصنعة\n",
      "11\n",
      "إنشاد\n",
      "1\n",
      "زجل\n",
      "6\n",
      "توشيح\n",
      "4\n",
      "مجهول\n",
      "1\n",
      "قصيدة\n",
      "1\n"
     ]
    },
    {
     "data": {
      "text/plain": [
       "'data/original/tsv/769ff214-27f4-4ac1-8750-a03015d51161.tsv'"
      ]
     },
     "metadata": {},
     "output_type": "display_data"
    },
    {
     "name": "stdout",
     "output_type": "stream",
     "text": [
      "الصنعة\n",
      "9\n",
      "إنشاد\n",
      "1\n",
      "مجهول\n",
      "1\n",
      "زجل\n",
      "4\n",
      "توشيح\n",
      "3\n",
      "قصيدة\n",
      "2\n",
      "مجهول\n",
      "2\n"
     ]
    },
    {
     "data": {
      "text/plain": [
       "'data/original/tsv/7a5cc189-4962-42d0-8141-d1374e933e46.tsv'"
      ]
     },
     "metadata": {},
     "output_type": "display_data"
    },
    {
     "name": "stdout",
     "output_type": "stream",
     "text": [
      "الصنعة\n",
      "17\n",
      "إنشاد\n",
      "1\n",
      "زجل\n",
      "7\n",
      "قصيدة\n",
      "6\n",
      "توشيح\n",
      "3\n",
      "مجهول\n",
      "2\n"
     ]
    },
    {
     "data": {
      "text/plain": [
       "'data/original/tsv/7e3ee6f2-c42f-4da4-9816-45aadcffea88.tsv'"
      ]
     },
     "metadata": {},
     "output_type": "display_data"
    },
    {
     "name": "stdout",
     "output_type": "stream",
     "text": [
      "الصنعة\n",
      "16\n",
      "مجهول\n",
      "1\n",
      "إنشاد\n",
      "1\n",
      "زجل\n",
      "10\n",
      "توشيح\n",
      "4\n",
      "مجهول\n",
      "3\n",
      "قصيدة\n",
      "1\n"
     ]
    },
    {
     "data": {
      "text/plain": [
       "'data/original/tsv/80e8e9d5-c0ee-4d24-9418-f098b7110ca7.tsv'"
      ]
     },
     "metadata": {},
     "output_type": "display_data"
    },
    {
     "name": "stdout",
     "output_type": "stream",
     "text": [
      "الصنعة\n",
      "12\n",
      "إنشاد\n",
      "1\n",
      "زجل\n",
      "4\n",
      "توشيح\n",
      "4\n",
      "مجهول\n",
      "3\n",
      "قصيدة\n",
      "2\n"
     ]
    },
    {
     "data": {
      "text/plain": [
       "'data/original/tsv/8361317d-2b4e-438f-9b73-d1daaa200a3e.tsv'"
      ]
     },
     "metadata": {},
     "output_type": "display_data"
    },
    {
     "name": "stdout",
     "output_type": "stream",
     "text": [
      "الصنعة\n",
      "10\n",
      "إنشاد\n",
      "1\n",
      "زجل\n",
      "7\n",
      "قصيدة\n",
      "2\n",
      "مجهول\n",
      "1\n",
      "توشيح\n",
      "1\n"
     ]
    },
    {
     "data": {
      "text/plain": [
       "'data/original/tsv/860a5ee6-6f83-42b1-a277-8ebad8d15b37.tsv'"
      ]
     },
     "metadata": {},
     "output_type": "display_data"
    },
    {
     "name": "stdout",
     "output_type": "stream",
     "text": [
      "الصنعة\n",
      "13\n",
      "إنشاد\n",
      "1\n",
      "توشيح\n",
      "4\n",
      "قصيدة\n",
      "4\n",
      "زجل\n",
      "4\n",
      "مجهول\n",
      "2\n"
     ]
    },
    {
     "data": {
      "text/plain": [
       "'data/original/tsv/8842c1f0-e261-4069-bd59-768bb9a3315c.tsv'"
      ]
     },
     "metadata": {},
     "output_type": "display_data"
    },
    {
     "name": "stdout",
     "output_type": "stream",
     "text": [
      "الصنعة\n",
      "10\n",
      "إنشاد\n",
      "1\n",
      "زجل\n",
      "7\n",
      "مجهول\n",
      "3\n",
      "قصيدة\n",
      "1\n"
     ]
    },
    {
     "data": {
      "text/plain": [
       "'data/original/tsv/8a7aa258-312b-4bfb-8b00-a58c925ceae2.tsv'"
      ]
     },
     "metadata": {},
     "output_type": "display_data"
    },
    {
     "name": "stdout",
     "output_type": "stream",
     "text": [
      "الصنعة\n",
      "11\n",
      "زجل\n",
      "6\n",
      "توشيح\n",
      "3\n",
      "مجهول\n",
      "2\n"
     ]
    },
    {
     "data": {
      "text/plain": [
       "'data/original/tsv/8ddaae6b-3657-41f1-98a1-7faffd6dcb5f.tsv'"
      ]
     },
     "metadata": {},
     "output_type": "display_data"
    },
    {
     "name": "stdout",
     "output_type": "stream",
     "text": [
      "الصنعة\n",
      "16\n",
      "إنشاد\n",
      "1\n",
      "زجل\n",
      "14\n",
      "توشيح\n",
      "1\n",
      "مجهول\n",
      "1\n",
      "قصيدة\n",
      "1\n"
     ]
    },
    {
     "data": {
      "text/plain": [
       "'data/original/tsv/8f32c379-c70a-4e9e-aabb-e0735611ecab.tsv'"
      ]
     },
     "metadata": {},
     "output_type": "display_data"
    },
    {
     "name": "stdout",
     "output_type": "stream",
     "text": [
      "الصنعة\n",
      "8\n",
      "مجهول\n",
      "1\n",
      "زجل\n",
      "5\n",
      "قصيدة\n",
      "3\n",
      "مجهول\n",
      "1\n"
     ]
    },
    {
     "data": {
      "text/plain": [
       "'data/original/tsv/92de6fc8-a040-4500-bd94-73e9ee39f189.tsv'"
      ]
     },
     "metadata": {},
     "output_type": "display_data"
    },
    {
     "name": "stdout",
     "output_type": "stream",
     "text": [
      "الصنعة\n",
      "9\n",
      "زجل\n",
      "6\n",
      "توشيح\n",
      "3\n"
     ]
    },
    {
     "data": {
      "text/plain": [
       "'data/original/tsv/9727ddbe-eb79-461b-9861-8a60336b17f6.tsv'"
      ]
     },
     "metadata": {},
     "output_type": "display_data"
    },
    {
     "name": "stdout",
     "output_type": "stream",
     "text": [
      "الصنعة\n",
      "10\n",
      "إنشاد\n",
      "1\n",
      "مجهول\n",
      "1\n",
      "زجل\n",
      "8\n",
      "توشيح\n",
      "2\n",
      "مجهول\n",
      "2\n"
     ]
    },
    {
     "data": {
      "text/plain": [
       "'data/original/tsv/9781e524-92de-43f2-87e3-1e9f05931f0e.tsv'"
      ]
     },
     "metadata": {},
     "output_type": "display_data"
    },
    {
     "name": "stdout",
     "output_type": "stream",
     "text": [
      "الصنعة\n",
      "10\n",
      "زجل\n",
      "6\n",
      "مجهول\n",
      "4\n"
     ]
    },
    {
     "data": {
      "text/plain": [
       "'data/original/tsv/99004770-1152-4fec-802a-a0014e9b9930.tsv'"
      ]
     },
     "metadata": {},
     "output_type": "display_data"
    },
    {
     "name": "stdout",
     "output_type": "stream",
     "text": [
      "الصنعة\n",
      "8\n",
      "إنشاد\n",
      "1\n",
      "موال\n",
      "1\n",
      "زجل\n",
      "4\n",
      "قصيدة\n",
      "3\n",
      "مجهول\n",
      "2\n",
      "توشيح\n",
      "1\n"
     ]
    },
    {
     "data": {
      "text/plain": [
       "'data/original/tsv/9b194c42-f974-42f8-89b1-123bb07170b8.tsv'"
      ]
     },
     "metadata": {},
     "output_type": "display_data"
    },
    {
     "name": "stdout",
     "output_type": "stream",
     "text": [
      "الصنعة\n",
      "12\n",
      "زجل\n",
      "9\n",
      "قصيدة\n",
      "2\n",
      "توشيح\n",
      "1\n"
     ]
    },
    {
     "data": {
      "text/plain": [
       "'data/original/tsv/a025eef0-d130-496f-9581-f5ce40bd1783.tsv'"
      ]
     },
     "metadata": {},
     "output_type": "display_data"
    },
    {
     "name": "stdout",
     "output_type": "stream",
     "text": [
      "الصنعة\n",
      "5\n",
      "زجل\n",
      "3\n",
      "قصيدة\n",
      "1\n",
      "توشيح\n",
      "1\n"
     ]
    },
    {
     "data": {
      "text/plain": [
       "'data/original/tsv/a17823b4-c5bd-427e-80ad-05aee74ecdf3.tsv'"
      ]
     },
     "metadata": {},
     "output_type": "display_data"
    },
    {
     "name": "stdout",
     "output_type": "stream",
     "text": [
      "الصنعة\n",
      "11\n",
      "إنشاد\n",
      "1\n",
      "زجل\n",
      "5\n",
      "توشيح\n",
      "3\n",
      "قصيدة\n",
      "2\n",
      "مجهول\n",
      "2\n"
     ]
    },
    {
     "data": {
      "text/plain": [
       "'data/original/tsv/a1eac726-208e-4c24-bd57-e34e9e93dcd3.tsv'"
      ]
     },
     "metadata": {},
     "output_type": "display_data"
    },
    {
     "name": "stdout",
     "output_type": "stream",
     "text": [
      "الصنعة\n",
      "14\n",
      "إنشاد\n",
      "1\n",
      "زجل\n",
      "6\n",
      "توشيح\n",
      "4\n",
      "مجهول\n",
      "3\n",
      "قصيدة\n",
      "2\n"
     ]
    },
    {
     "data": {
      "text/plain": [
       "'data/original/tsv/a451a7fc-c53f-462a-b3fc-4377bb588105.tsv'"
      ]
     },
     "metadata": {},
     "output_type": "display_data"
    },
    {
     "name": "stdout",
     "output_type": "stream",
     "text": [
      "الصنعة\n",
      "11\n",
      "زجل\n",
      "8\n",
      "توشيح\n",
      "2\n",
      "قصيدة\n",
      "1\n"
     ]
    },
    {
     "data": {
      "text/plain": [
       "'data/original/tsv/aecf65c2-ef6a-4e7a-a123-24fbe757684e.tsv'"
      ]
     },
     "metadata": {},
     "output_type": "display_data"
    },
    {
     "name": "stdout",
     "output_type": "stream",
     "text": [
      "الصنعة\n",
      "10\n",
      "زجل\n",
      "8\n",
      "توشيح\n",
      "2\n"
     ]
    },
    {
     "data": {
      "text/plain": [
       "'data/original/tsv/b018d0fd-9955-47bb-9ef2-d291f500eebe.tsv'"
      ]
     },
     "metadata": {},
     "output_type": "display_data"
    },
    {
     "name": "stdout",
     "output_type": "stream",
     "text": [
      "الصنعة\n",
      "10\n",
      "مجهول\n",
      "5\n",
      "إنشاد\n",
      "1\n",
      "مجهول\n",
      "7\n",
      "زجل\n",
      "5\n",
      "توشيح\n",
      "4\n"
     ]
    },
    {
     "data": {
      "text/plain": [
       "'data/original/tsv/b11237b9-d45b-4b3a-a97b-ab7d198f927f.tsv'"
      ]
     },
     "metadata": {},
     "output_type": "display_data"
    },
    {
     "name": "stdout",
     "output_type": "stream",
     "text": [
      "الصنعة\n",
      "15\n",
      "موال\n",
      "1\n",
      "زجل\n",
      "8\n",
      "قصيدة\n",
      "4\n",
      "مجهول\n",
      "2\n",
      "توشيح\n",
      "2\n"
     ]
    },
    {
     "data": {
      "text/plain": [
       "'data/original/tsv/b485548d-6b46-48aa-835f-1326f06bb91f.tsv'"
      ]
     },
     "metadata": {},
     "output_type": "display_data"
    },
    {
     "name": "stdout",
     "output_type": "stream",
     "text": [
      "الصنعة\n",
      "13\n",
      "موال\n",
      "1\n",
      "توشيح\n",
      "6\n",
      "مجهول\n",
      "3\n",
      "زجل\n",
      "3\n",
      "قصيدة\n",
      "2\n"
     ]
    },
    {
     "data": {
      "text/plain": [
       "'data/original/tsv/b787f4e2-dce1-4bfe-89b3-193cbaa5c90d.tsv'"
      ]
     },
     "metadata": {},
     "output_type": "display_data"
    },
    {
     "name": "stdout",
     "output_type": "stream",
     "text": [
      "الصنعة\n",
      "13\n",
      "إنشاد\n",
      "1\n",
      "زجل\n",
      "8\n",
      "قصيدة\n",
      "5\n",
      "مجهول\n",
      "1\n"
     ]
    },
    {
     "data": {
      "text/plain": [
       "'data/original/tsv/b7b63bb4-1839-45bf-bb4f-389f150c556a.tsv'"
      ]
     },
     "metadata": {},
     "output_type": "display_data"
    },
    {
     "name": "stdout",
     "output_type": "stream",
     "text": [
      "الصنعة\n",
      "15\n",
      "توشيح\n",
      "5\n",
      "زجل\n",
      "4\n",
      "قصيدة\n",
      "3\n",
      "مجهول\n",
      "3\n"
     ]
    },
    {
     "data": {
      "text/plain": [
       "'data/original/tsv/b8327bca-28eb-402b-9184-7777b980048c.tsv'"
      ]
     },
     "metadata": {},
     "output_type": "display_data"
    },
    {
     "name": "stdout",
     "output_type": "stream",
     "text": [
      "الصنعة\n",
      "8\n",
      "إنشاد\n",
      "1\n",
      "زجل\n",
      "5\n",
      "مجهول\n",
      "2\n",
      "توشيح\n",
      "1\n",
      "قصيدة\n",
      "1\n"
     ]
    },
    {
     "data": {
      "text/plain": [
       "'data/original/tsv/bb7adfee-f63d-4004-a457-b31ae784a0bd.tsv'"
      ]
     },
     "metadata": {},
     "output_type": "display_data"
    },
    {
     "name": "stdout",
     "output_type": "stream",
     "text": [
      "الصنعة\n",
      "13\n",
      "إنشاد\n",
      "2\n",
      "زجل\n",
      "6\n",
      "مجهول\n",
      "4\n",
      "قصيدة\n",
      "3\n",
      "توشيح\n",
      "2\n"
     ]
    },
    {
     "data": {
      "text/plain": [
       "'data/original/tsv/c1e0311e-ee21-470c-b6f9-815d892cf6c9.tsv'"
      ]
     },
     "metadata": {},
     "output_type": "display_data"
    },
    {
     "name": "stdout",
     "output_type": "stream",
     "text": [
      "الصنعة\n",
      "15\n",
      "موال\n",
      "1\n",
      "زجل\n",
      "6\n",
      "توشيح\n",
      "4\n",
      "قصيدة\n",
      "3\n",
      "مجهول\n",
      "3\n"
     ]
    },
    {
     "data": {
      "text/plain": [
       "'data/original/tsv/c20e4852-d140-4909-acab-e850c0e7d8e8.tsv'"
      ]
     },
     "metadata": {},
     "output_type": "display_data"
    },
    {
     "name": "stdout",
     "output_type": "stream",
     "text": [
      "الصنعة\n",
      "8\n",
      "إنشاد\n",
      "1\n",
      "زجل\n",
      "4\n",
      "توشيح\n",
      "3\n",
      "مجهول\n",
      "1\n",
      "قصيدة\n",
      "1\n"
     ]
    },
    {
     "data": {
      "text/plain": [
       "'data/original/tsv/c2560f5e-e040-40ca-a390-72ed1ecd0792.tsv'"
      ]
     },
     "metadata": {},
     "output_type": "display_data"
    },
    {
     "name": "stdout",
     "output_type": "stream",
     "text": [
      "الصنعة\n",
      "11\n",
      "زجل\n",
      "4\n",
      "قصيدة\n",
      "4\n",
      "توشيح\n",
      "2\n",
      "مجهول\n",
      "1\n"
     ]
    },
    {
     "data": {
      "text/plain": [
       "'data/original/tsv/c462ca37-7812-4b9b-9865-275da1f237fe.tsv'"
      ]
     },
     "metadata": {},
     "output_type": "display_data"
    },
    {
     "name": "stdout",
     "output_type": "stream",
     "text": [
      "الصنعة\n",
      "13\n",
      "زجل\n",
      "11\n",
      "قصيدة\n",
      "1\n",
      "توشيح\n",
      "1\n"
     ]
    },
    {
     "data": {
      "text/plain": [
       "'data/original/tsv/c8029ba7-5827-4628-b0bd-1adcc1bb8379.tsv'"
      ]
     },
     "metadata": {},
     "output_type": "display_data"
    },
    {
     "name": "stdout",
     "output_type": "stream",
     "text": [
      "الصنعة\n",
      "9\n",
      "إنشاد\n",
      "1\n",
      "توشيح\n",
      "4\n",
      "زجل\n",
      "3\n",
      "قصيدة\n",
      "2\n",
      "مجهول\n",
      "1\n"
     ]
    },
    {
     "data": {
      "text/plain": [
       "'data/original/tsv/cb85269e-ab6c-4226-aea1-8226be1fe86c.tsv'"
      ]
     },
     "metadata": {},
     "output_type": "display_data"
    },
    {
     "name": "stdout",
     "output_type": "stream",
     "text": [
      "الصنعة\n",
      "7\n",
      "زجل\n",
      "5\n",
      "توشيح\n",
      "2\n"
     ]
    },
    {
     "data": {
      "text/plain": [
       "'data/original/tsv/ccbfa79b-5ca4-4719-9f6b-04076180642e.tsv'"
      ]
     },
     "metadata": {},
     "output_type": "display_data"
    },
    {
     "name": "stdout",
     "output_type": "stream",
     "text": [
      "الصنعة\n",
      "9\n",
      "إنشاد\n",
      "1\n",
      "زجل\n",
      "5\n",
      "قصيدة\n",
      "3\n",
      "توشيح\n",
      "1\n",
      "مجهول\n",
      "1\n"
     ]
    },
    {
     "data": {
      "text/plain": [
       "'data/original/tsv/cdf77450-2d12-472d-9f6d-c150bba808b8.tsv'"
      ]
     },
     "metadata": {},
     "output_type": "display_data"
    },
    {
     "name": "stdout",
     "output_type": "stream",
     "text": [
      "الصنعة\n",
      "11\n",
      "مجهول\n",
      "1\n",
      "إنشاد\n",
      "1\n",
      "زجل\n",
      "7\n",
      "توشيح\n",
      "4\n",
      "مجهول\n",
      "2\n"
     ]
    },
    {
     "data": {
      "text/plain": [
       "'data/original/tsv/d2830817-7b06-4f98-bba5-daf8ae9f85be.tsv'"
      ]
     },
     "metadata": {},
     "output_type": "display_data"
    },
    {
     "name": "stdout",
     "output_type": "stream",
     "text": [
      "الصنعة\n",
      "9\n",
      "إنشاد\n",
      "1\n",
      "زجل\n",
      "8\n",
      "مجهول\n",
      "1\n",
      "قصيدة\n",
      "1\n"
     ]
    },
    {
     "data": {
      "text/plain": [
       "'data/original/tsv/d4cadf34-1074-44ce-9928-f438198d5d6d.tsv'"
      ]
     },
     "metadata": {},
     "output_type": "display_data"
    },
    {
     "name": "stdout",
     "output_type": "stream",
     "text": [
      "الصنعة\n",
      "2\n",
      "زجل\n",
      "2\n"
     ]
    },
    {
     "data": {
      "text/plain": [
       "'data/original/tsv/d5cc773e-9d31-42e8-b9de-91374fe7153b.tsv'"
      ]
     },
     "metadata": {},
     "output_type": "display_data"
    },
    {
     "name": "stdout",
     "output_type": "stream",
     "text": [
      "الصنعة\n",
      "14\n",
      "إنشاد\n",
      "1\n",
      "زجل\n",
      "6\n",
      "قصيدة\n",
      "5\n",
      "توشيح\n",
      "2\n",
      "برولة\n",
      "1\n",
      "مجهول\n",
      "1\n"
     ]
    },
    {
     "data": {
      "text/plain": [
       "'data/original/tsv/d66d44e9-f722-4b23-8753-0dea2818f475.tsv'"
      ]
     },
     "metadata": {},
     "output_type": "display_data"
    },
    {
     "name": "stdout",
     "output_type": "stream",
     "text": [
      "الصنعة\n",
      "9\n",
      "إنشاد\n",
      "1\n",
      "زجل\n",
      "4\n",
      "توشيح\n",
      "3\n",
      "مجهول\n",
      "2\n",
      "قصيدة\n",
      "1\n"
     ]
    },
    {
     "data": {
      "text/plain": [
       "'data/original/tsv/d7d67d50-9601-4119-8910-169383208a29.tsv'"
      ]
     },
     "metadata": {},
     "output_type": "display_data"
    },
    {
     "name": "stdout",
     "output_type": "stream",
     "text": [
      "الصنعة\n",
      "15\n",
      "توشيح\n",
      "7\n",
      "زجل\n",
      "4\n",
      "قصيدة\n",
      "2\n",
      "مجهول\n",
      "2\n"
     ]
    },
    {
     "data": {
      "text/plain": [
       "'data/original/tsv/d80d7c9c-3be1-4309-8520-12ac542a6759.tsv'"
      ]
     },
     "metadata": {},
     "output_type": "display_data"
    },
    {
     "name": "stdout",
     "output_type": "stream",
     "text": [
      "الصنعة\n",
      "8\n",
      "إنشاد\n",
      "1\n",
      "مجهول\n",
      "1\n",
      "زجل\n",
      "6\n",
      "قصيدة\n",
      "2\n",
      "مجهول\n",
      "2\n"
     ]
    },
    {
     "data": {
      "text/plain": [
       "'data/original/tsv/dae13b1f-b7fd-4db3-af3c-11784d51d829.tsv'"
      ]
     },
     "metadata": {},
     "output_type": "display_data"
    },
    {
     "name": "stdout",
     "output_type": "stream",
     "text": [
      "الصنعة\n",
      "8\n",
      "إنشاد\n",
      "1\n",
      "زجل\n",
      "7\n",
      "مجهول\n",
      "1\n",
      "قصيدة\n",
      "1\n"
     ]
    },
    {
     "data": {
      "text/plain": [
       "'data/original/tsv/db529ac1-4b46-4c7b-bf6a-28f152bf19fb.tsv'"
      ]
     },
     "metadata": {},
     "output_type": "display_data"
    },
    {
     "name": "stdout",
     "output_type": "stream",
     "text": [
      "الصنعة\n",
      "5\n",
      "زجل\n",
      "3\n",
      "توشيح\n",
      "2\n"
     ]
    },
    {
     "data": {
      "text/plain": [
       "'data/original/tsv/e0ce0420-165c-4339-8556-6d75a0b733c7.tsv'"
      ]
     },
     "metadata": {},
     "output_type": "display_data"
    },
    {
     "name": "stdout",
     "output_type": "stream",
     "text": [
      "الصنعة\n",
      "18\n",
      "إنشاد\n",
      "1\n",
      "توشيح\n",
      "9\n",
      "زجل\n",
      "5\n",
      "قصيدة\n",
      "3\n",
      "مجهول\n",
      "2\n"
     ]
    },
    {
     "data": {
      "text/plain": [
       "'data/original/tsv/e22549ae-4a0c-43ef-87f4-e0f81ed49d58.tsv'"
      ]
     },
     "metadata": {},
     "output_type": "display_data"
    },
    {
     "name": "stdout",
     "output_type": "stream",
     "text": [
      "الصنعة\n",
      "10\n",
      "إنشاد\n",
      "1\n",
      "مجهول\n",
      "1\n",
      "زجل\n",
      "6\n",
      "توشيح\n",
      "4\n",
      "مجهول\n",
      "2\n"
     ]
    },
    {
     "data": {
      "text/plain": [
       "'data/original/tsv/e4e3fc3c-8d57-4123-b14c-236110dde3c0.tsv'"
      ]
     },
     "metadata": {},
     "output_type": "display_data"
    },
    {
     "name": "stdout",
     "output_type": "stream",
     "text": [
      "الصنعة\n",
      "7\n",
      "توشيح\n",
      "3\n",
      "زجل\n",
      "2\n",
      "قصيدة\n",
      "1\n",
      "مجهول\n",
      "1\n"
     ]
    },
    {
     "data": {
      "text/plain": [
       "'data/original/tsv/e79c1615-7172-43a4-acdf-e9475c224edf.tsv'"
      ]
     },
     "metadata": {},
     "output_type": "display_data"
    },
    {
     "name": "stdout",
     "output_type": "stream",
     "text": [
      "الصنعة\n",
      "10\n",
      "مجهول\n",
      "1\n",
      "زجل\n",
      "4\n",
      "توشيح\n",
      "3\n",
      "قصيدة\n",
      "2\n",
      "مجهول\n",
      "2\n"
     ]
    },
    {
     "data": {
      "text/plain": [
       "'data/original/tsv/ec15c3e3-f58b-4073-8e1e-82620f488745.tsv'"
      ]
     },
     "metadata": {},
     "output_type": "display_data"
    },
    {
     "name": "stdout",
     "output_type": "stream",
     "text": [
      "الصنعة\n",
      "11\n",
      "إنشاد\n",
      "1\n",
      "زجل\n",
      "6\n",
      "قصيدة\n",
      "3\n",
      "توشيح\n",
      "2\n",
      "مجهول\n",
      "1\n"
     ]
    },
    {
     "data": {
      "text/plain": [
       "'data/original/tsv/ec5d2ba0-7c04-4d87-83b9-f82d363ca319.tsv'"
      ]
     },
     "metadata": {},
     "output_type": "display_data"
    },
    {
     "name": "stdout",
     "output_type": "stream",
     "text": [
      "الصنعة\n",
      "14\n",
      "موال\n",
      "1\n",
      "زجل\n",
      "11\n",
      "توشيح\n",
      "2\n",
      "قصيدة\n",
      "1\n",
      "مجهول\n",
      "1\n"
     ]
    },
    {
     "data": {
      "text/plain": [
       "'data/original/tsv/ee64a602-ace5-4e1a-96ef-89a7cf41cfb5.tsv'"
      ]
     },
     "metadata": {},
     "output_type": "display_data"
    },
    {
     "name": "stdout",
     "output_type": "stream",
     "text": [
      "الصنعة\n",
      "9\n",
      "إنشاد\n",
      "1\n",
      "زجل\n",
      "4\n",
      "توشيح\n",
      "3\n",
      "مجهول\n",
      "2\n",
      "قصيدة\n",
      "1\n"
     ]
    },
    {
     "data": {
      "text/plain": [
       "'data/original/tsv/f461045b-50bc-4b20-a731-66fbd3a264ae.tsv'"
      ]
     },
     "metadata": {},
     "output_type": "display_data"
    },
    {
     "name": "stdout",
     "output_type": "stream",
     "text": [
      "الصنعة\n",
      "12\n",
      "إنشاد\n",
      "1\n",
      "قصيدة\n",
      "5\n",
      "زجل\n",
      "4\n",
      "مجهول\n",
      "3\n",
      "توشيح\n",
      "1\n"
     ]
    },
    {
     "data": {
      "text/plain": [
       "'data/original/tsv/f7bcb9af-6abb-4192-ae3d-37fa811034ce.tsv'"
      ]
     },
     "metadata": {},
     "output_type": "display_data"
    },
    {
     "name": "stdout",
     "output_type": "stream",
     "text": [
      "الصنعة\n",
      "15\n",
      "إنشاد\n",
      "1\n",
      "زجل\n",
      "9\n",
      "قصيدة\n",
      "3\n",
      "مجهول\n",
      "2\n",
      "توشيح\n",
      "2\n"
     ]
    },
    {
     "data": {
      "text/plain": [
       "'data/original/tsv/f7c00e6e-7b07-47ba-bfdd-146ddbf9adb5.tsv'"
      ]
     },
     "metadata": {},
     "output_type": "display_data"
    },
    {
     "name": "stdout",
     "output_type": "stream",
     "text": [
      "الصنعة\n",
      "10\n",
      "إنشاد\n",
      "1\n",
      "زجل\n",
      "8\n",
      "مجهول\n",
      "2\n",
      "توشيح\n",
      "1\n"
     ]
    },
    {
     "data": {
      "text/plain": [
       "'data/original/tsv/f8b75f4a-1524-43cb-ad45-622ac277d96e.tsv'"
      ]
     },
     "metadata": {},
     "output_type": "display_data"
    },
    {
     "name": "stdout",
     "output_type": "stream",
     "text": [
      "الصنعة\n",
      "6\n",
      "مجهول\n",
      "1\n",
      "زجل\n",
      "2\n",
      "قصيدة\n",
      "2\n",
      "توشيح\n",
      "2\n",
      "مجهول\n",
      "1\n"
     ]
    },
    {
     "data": {
      "text/plain": [
       "'data/original/tsv/fb387964-4764-4900-91b5-f2ea7e10b786.tsv'"
      ]
     },
     "metadata": {},
     "output_type": "display_data"
    },
    {
     "name": "stdout",
     "output_type": "stream",
     "text": [
      "الصنعة\n",
      "9\n",
      "زجل\n",
      "8\n",
      "قصيدة\n",
      "1\n"
     ]
    },
    {
     "data": {
      "text/plain": [
       "'data/transliterated/tsv/023b4a37-1ab4-4593-b03a-850ee0db8350.tsv'"
      ]
     },
     "metadata": {},
     "output_type": "display_data"
    },
    {
     "name": "stdout",
     "output_type": "stream",
     "text": [
      "al-ṣan‘ah\n",
      "16\n",
      "zajal\n",
      "8\n",
      "tawshīḥ\n",
      "6\n",
      "qaṣīdah\n",
      "2\n"
     ]
    },
    {
     "data": {
      "text/plain": [
       "'data/transliterated/tsv/02b76946-deec-48cf-9007-770c37b6c3cc.tsv'"
      ]
     },
     "metadata": {},
     "output_type": "display_data"
    },
    {
     "name": "stdout",
     "output_type": "stream",
     "text": [
      "al-ṣan‘ah\n",
      "10\n",
      "zajal\n",
      "6\n",
      "tawshīḥ\n",
      "3\n",
      "qaṣīdah\n",
      "1\n"
     ]
    },
    {
     "data": {
      "text/plain": [
       "'data/transliterated/tsv/03e555c6-a480-4e11-aef7-231891c4f4e6.tsv'"
      ]
     },
     "metadata": {},
     "output_type": "display_data"
    },
    {
     "name": "stdout",
     "output_type": "stream",
     "text": [
      "al-ṣan‘ah\n",
      "6\n",
      "inshād\n",
      "1\n",
      "tawshīḥ\n",
      "3\n",
      "zajal\n",
      "3\n",
      "unidentified\n",
      "1\n"
     ]
    },
    {
     "data": {
      "text/plain": [
       "'data/transliterated/tsv/04b42450-8838-4a20-9e79-d42f03f8cc51.tsv'"
      ]
     },
     "metadata": {},
     "output_type": "display_data"
    },
    {
     "name": "stdout",
     "output_type": "stream",
     "text": [
      "al-ṣan‘ah\n",
      "9\n",
      "zajal\n",
      "6\n",
      "unidentified\n",
      "2\n",
      "qaṣīdah\n",
      "1\n"
     ]
    },
    {
     "data": {
      "text/plain": [
       "'data/transliterated/tsv/07ee1daa-3bac-4bb8-922e-36729c11fc3a.tsv'"
      ]
     },
     "metadata": {},
     "output_type": "display_data"
    },
    {
     "name": "stdout",
     "output_type": "stream",
     "text": [
      "al-ṣan‘ah\n",
      "12\n",
      "inshād\n",
      "1\n",
      "zajal\n",
      "5\n",
      "tawshīḥ\n",
      "3\n",
      "qaṣīdah\n",
      "2\n",
      "unidentified\n",
      "2\n",
      "birūālatin\n",
      "1\n"
     ]
    },
    {
     "data": {
      "text/plain": [
       "'data/transliterated/tsv/0909c62d-7eb7-4976-b125-c20c12cc15a1.tsv'"
      ]
     },
     "metadata": {},
     "output_type": "display_data"
    },
    {
     "name": "stdout",
     "output_type": "stream",
     "text": [
      "al-ṣan‘ah\n",
      "7\n",
      "inshād\n",
      "1\n",
      "zajal\n",
      "4\n",
      "tawshīḥ\n",
      "2\n",
      "unidentified\n",
      "1\n",
      "qaṣīdah\n",
      "1\n"
     ]
    },
    {
     "data": {
      "text/plain": [
       "'data/transliterated/tsv/0d1d3cff-e68e-403d-bb3f-caca302bf5ab.tsv'"
      ]
     },
     "metadata": {},
     "output_type": "display_data"
    },
    {
     "name": "stdout",
     "output_type": "stream",
     "text": [
      "al-ṣan‘ah\n",
      "7\n",
      "inshād\n",
      "1\n",
      "zajal\n",
      "6\n",
      "qaṣīdah\n",
      "1\n",
      "unidentified\n",
      "1\n"
     ]
    },
    {
     "data": {
      "text/plain": [
       "'data/transliterated/tsv/0fb722f6-35a3-436b-9316-4c2de2b86cc7.tsv'"
      ]
     },
     "metadata": {},
     "output_type": "display_data"
    },
    {
     "name": "stdout",
     "output_type": "stream",
     "text": [
      "al-ṣan‘ah\n",
      "11\n",
      "inshād\n",
      "1\n",
      "zajal\n",
      "6\n",
      "unidentified\n",
      "2\n",
      "qaṣīdah\n",
      "2\n",
      "tawshīḥ\n",
      "2\n"
     ]
    },
    {
     "data": {
      "text/plain": [
       "'data/transliterated/tsv/12ce112f-38ed-4700-94ec-a329d06f6196.tsv'"
      ]
     },
     "metadata": {},
     "output_type": "display_data"
    },
    {
     "name": "stdout",
     "output_type": "stream",
     "text": [
      "al-ṣan‘ah\n",
      "9\n",
      "tawshīḥ\n",
      "4\n",
      "zajal\n",
      "4\n",
      "birūālatin\n",
      "1\n"
     ]
    },
    {
     "data": {
      "text/plain": [
       "'data/transliterated/tsv/13a8d4b9-8dbf-40c0-98df-db64791e43a9.tsv'"
      ]
     },
     "metadata": {},
     "output_type": "display_data"
    },
    {
     "name": "stdout",
     "output_type": "stream",
     "text": [
      "al-ṣan‘ah\n",
      "9\n",
      "inshād\n",
      "1\n",
      "tawshīḥ\n",
      "4\n",
      "zajal\n",
      "3\n",
      "qaṣīdah\n",
      "2\n",
      "unidentified\n",
      "1\n"
     ]
    },
    {
     "data": {
      "text/plain": [
       "'data/transliterated/tsv/1630e9c2-3c01-4959-a633-7dbacbc7616e.tsv'"
      ]
     },
     "metadata": {},
     "output_type": "display_data"
    },
    {
     "name": "stdout",
     "output_type": "stream",
     "text": [
      "al-ṣan‘ah\n",
      "12\n",
      "inshād\n",
      "1\n",
      "zajal\n",
      "10\n",
      "unidentified\n",
      "2\n",
      "tawshīḥ\n",
      "1\n"
     ]
    },
    {
     "data": {
      "text/plain": [
       "'data/transliterated/tsv/1f623914-8002-4866-8a6e-4dc684e848d9.tsv'"
      ]
     },
     "metadata": {},
     "output_type": "display_data"
    },
    {
     "name": "stdout",
     "output_type": "stream",
     "text": [
      "al-ṣan‘ah\n",
      "10\n",
      "inshād\n",
      "1\n",
      "zajal\n",
      "6\n",
      "tawshīḥ\n",
      "3\n",
      "qaṣīdah\n",
      "1\n",
      "unidentified\n",
      "1\n"
     ]
    },
    {
     "data": {
      "text/plain": [
       "'data/transliterated/tsv/1ffa4dee-b08e-4332-a2ab-9843c13c3dfa.tsv'"
      ]
     },
     "metadata": {},
     "output_type": "display_data"
    },
    {
     "name": "stdout",
     "output_type": "stream",
     "text": [
      "al-ṣan‘ah\n",
      "14\n",
      "inshād\n",
      "1\n",
      "zajal\n",
      "6\n",
      "tawshīḥ\n",
      "4\n",
      "qaṣīdah\n",
      "3\n",
      "unidentified\n",
      "2\n"
     ]
    },
    {
     "data": {
      "text/plain": [
       "'data/transliterated/tsv/2083676f-c26b-4e2e-8324-1b571e729521.tsv'"
      ]
     },
     "metadata": {},
     "output_type": "display_data"
    },
    {
     "name": "stdout",
     "output_type": "stream",
     "text": [
      "al-ṣan‘ah\n",
      "6\n",
      "qaṣīdah\n",
      "3\n",
      "zajal\n",
      "2\n",
      "tawshīḥ\n",
      "1\n"
     ]
    },
    {
     "data": {
      "text/plain": [
       "'data/transliterated/tsv/224bfb11-f761-4976-bc71-42d9805e5d63.tsv'"
      ]
     },
     "metadata": {},
     "output_type": "display_data"
    },
    {
     "name": "stdout",
     "output_type": "stream",
     "text": [
      "al-ṣan‘ah\n",
      "10\n",
      "zajal\n",
      "8\n",
      "tawshīḥ\n",
      "1\n",
      "qaṣīdah\n",
      "1\n"
     ]
    },
    {
     "data": {
      "text/plain": [
       "'data/transliterated/tsv/25857838-1a8a-4102-a818-88bca8be5cf6.tsv'"
      ]
     },
     "metadata": {},
     "output_type": "display_data"
    },
    {
     "name": "stdout",
     "output_type": "stream",
     "text": [
      "al-ṣan‘ah\n",
      "9\n",
      "inshād\n",
      "1\n",
      "tawshīḥ\n",
      "4\n",
      "qaṣīdah\n",
      "3\n",
      "zajal\n",
      "2\n",
      "unidentified\n",
      "1\n"
     ]
    },
    {
     "data": {
      "text/plain": [
       "'data/transliterated/tsv/263f2386-1081-4307-b686-1c99c2f31fa1.tsv'"
      ]
     },
     "metadata": {},
     "output_type": "display_data"
    },
    {
     "name": "stdout",
     "output_type": "stream",
     "text": [
      "al-ṣan‘ah\n",
      "15\n",
      "zajal\n",
      "7\n",
      "qaṣīdah\n",
      "4\n",
      "tawshīḥ\n",
      "2\n",
      "birūālatin\n",
      "2\n"
     ]
    },
    {
     "data": {
      "text/plain": [
       "'data/transliterated/tsv/277bc427-16dd-4468-9f4c-16945ffc3b30.tsv'"
      ]
     },
     "metadata": {},
     "output_type": "display_data"
    },
    {
     "name": "stdout",
     "output_type": "stream",
     "text": [
      "al-ṣan‘ah\n",
      "11\n",
      "inshād\n",
      "1\n",
      "zajal\n",
      "8\n",
      "tawshīḥ\n",
      "2\n",
      "unidentified\n",
      "1\n",
      "qaṣīdah\n",
      "1\n"
     ]
    },
    {
     "data": {
      "text/plain": [
       "'data/transliterated/tsv/2bf90ba7-210f-4210-b986-dbf57edcf861.tsv'"
      ]
     },
     "metadata": {},
     "output_type": "display_data"
    },
    {
     "name": "stdout",
     "output_type": "stream",
     "text": [
      "al-ṣan‘ah\n",
      "9\n",
      "mawwāl\n",
      "1\n",
      "zajal\n",
      "5\n",
      "unidentified\n",
      "3\n",
      "tawshīḥ\n",
      "2\n"
     ]
    },
    {
     "data": {
      "text/plain": [
       "'data/transliterated/tsv/2c44caec-ea8c-474b-9dda-c55c660df969.tsv'"
      ]
     },
     "metadata": {},
     "output_type": "display_data"
    },
    {
     "name": "stdout",
     "output_type": "stream",
     "text": [
      "al-ṣan‘ah\n",
      "16\n",
      "inshād\n",
      "1\n",
      "zajal\n",
      "9\n",
      "tawshīḥ\n",
      "4\n",
      "unidentified\n",
      "2\n",
      "qaṣīdah\n",
      "2\n"
     ]
    },
    {
     "data": {
      "text/plain": [
       "'data/transliterated/tsv/2cf367de-583b-4bd6-83f3-fc036fe19fab.tsv'"
      ]
     },
     "metadata": {},
     "output_type": "display_data"
    },
    {
     "name": "stdout",
     "output_type": "stream",
     "text": [
      "al-ṣan‘ah\n",
      "9\n",
      "tawshīḥ\n",
      "4\n",
      "qaṣīdah\n",
      "3\n",
      "zajal\n",
      "2\n"
     ]
    },
    {
     "data": {
      "text/plain": [
       "'data/transliterated/tsv/2d2683c4-4b3e-4430-a254-c828427bdcc7.tsv'"
      ]
     },
     "metadata": {},
     "output_type": "display_data"
    },
    {
     "name": "stdout",
     "output_type": "stream",
     "text": [
      "mawwāl\n",
      "1\n",
      "al-ṣan‘ah\n",
      "1\n",
      "unidentified\n",
      "1\n",
      "zajal\n",
      "1\n"
     ]
    },
    {
     "data": {
      "text/plain": [
       "'data/transliterated/tsv/2d91d7e4-904a-46b7-bce2-230ca4e1b1c4.tsv'"
      ]
     },
     "metadata": {},
     "output_type": "display_data"
    },
    {
     "name": "stdout",
     "output_type": "stream",
     "text": [
      "al-ṣan‘ah\n",
      "10\n",
      "inshād\n",
      "1\n",
      "tawshīḥ\n",
      "6\n",
      "qaṣīdah\n",
      "2\n",
      "zajal\n",
      "2\n",
      "unidentified\n",
      "1\n"
     ]
    },
    {
     "data": {
      "text/plain": [
       "'data/transliterated/tsv/33423585-e406-40ec-ba28-88b0768cb668.tsv'"
      ]
     },
     "metadata": {},
     "output_type": "display_data"
    },
    {
     "name": "stdout",
     "output_type": "stream",
     "text": [
      "al-ṣan‘ah\n",
      "11\n",
      "inshād\n",
      "1\n",
      "zajal\n",
      "6\n",
      "tawshīḥ\n",
      "4\n",
      "unidentified\n",
      "1\n",
      "qaṣīdah\n",
      "1\n"
     ]
    },
    {
     "data": {
      "text/plain": [
       "'data/transliterated/tsv/36822512-b1c8-42aa-9e55-fe9d10560371.tsv'"
      ]
     },
     "metadata": {},
     "output_type": "display_data"
    },
    {
     "name": "stdout",
     "output_type": "stream",
     "text": [
      "al-ṣan‘ah\n",
      "5\n",
      "tawshīḥ\n",
      "4\n",
      "qaṣīdah\n",
      "1\n"
     ]
    },
    {
     "data": {
      "text/plain": [
       "'data/transliterated/tsv/3a578e21-46bb-47f2-9a4d-7cd738f0dd5b.tsv'"
      ]
     },
     "metadata": {},
     "output_type": "display_data"
    },
    {
     "name": "stdout",
     "output_type": "stream",
     "text": [
      "al-ṣan‘ah\n",
      "11\n",
      "zajal\n",
      "7\n",
      "qaṣīdah\n",
      "3\n",
      "tawshīḥ\n",
      "1\n"
     ]
    },
    {
     "data": {
      "text/plain": [
       "'data/transliterated/tsv/3b8d2e45-3bfd-4596-bcc0-addc64551eda.tsv'"
      ]
     },
     "metadata": {},
     "output_type": "display_data"
    },
    {
     "name": "stdout",
     "output_type": "stream",
     "text": [
      "al-ṣan‘ah\n",
      "17\n",
      "inshād\n",
      "1\n",
      "zajal\n",
      "14\n",
      "tawshīḥ\n",
      "2\n",
      "unidentified\n",
      "1\n",
      "qaṣīdah\n",
      "1\n"
     ]
    },
    {
     "data": {
      "text/plain": [
       "'data/transliterated/tsv/3bb348f5-417d-4646-9041-42b935c54c28.tsv'"
      ]
     },
     "metadata": {},
     "output_type": "display_data"
    },
    {
     "name": "stdout",
     "output_type": "stream",
     "text": [
      "al-ṣan‘ah\n",
      "9\n",
      "inshād\n",
      "1\n",
      "zajal\n",
      "8\n",
      "unidentified\n",
      "1\n",
      "qaṣīdah\n",
      "1\n"
     ]
    },
    {
     "data": {
      "text/plain": [
       "'data/transliterated/tsv/3e39495a-443d-483d-93d7-cdf96248c374.tsv'"
      ]
     },
     "metadata": {},
     "output_type": "display_data"
    },
    {
     "name": "stdout",
     "output_type": "stream",
     "text": [
      "al-ṣan‘ah\n",
      "11\n",
      "zajal\n",
      "7\n",
      "tawshīḥ\n",
      "2\n",
      "qaṣīdah\n",
      "2\n"
     ]
    },
    {
     "data": {
      "text/plain": [
       "'data/transliterated/tsv/3e5a82a2-d806-45cc-876e-6fa8a2b5a61d.tsv'"
      ]
     },
     "metadata": {},
     "output_type": "display_data"
    },
    {
     "name": "stdout",
     "output_type": "stream",
     "text": [
      "al-ṣan‘ah\n",
      "7\n",
      "mawwāl\n",
      "1\n",
      "zajal\n",
      "3\n",
      "qaṣīdah\n",
      "2\n",
      "tawshīḥ\n",
      "1\n",
      "unidentified\n",
      "1\n",
      "birūālatin\n",
      "1\n"
     ]
    },
    {
     "data": {
      "text/plain": [
       "'data/transliterated/tsv/3fb6107c-13be-4006-851a-a857ed2f80bb.tsv'"
      ]
     },
     "metadata": {},
     "output_type": "display_data"
    },
    {
     "name": "stdout",
     "output_type": "stream",
     "text": [
      "al-ṣan‘ah\n",
      "10\n",
      "tawshīt al-nūbah\n",
      "1\n",
      "inshād\n",
      "1\n",
      "zajal\n",
      "7\n",
      "tawshīḥ\n",
      "2\n",
      "unidentified\n",
      "2\n",
      "qaṣīdah\n",
      "1\n"
     ]
    },
    {
     "data": {
      "text/plain": [
       "'data/transliterated/tsv/44183247-4857-40cd-82bc-b4e9e3f458f1.tsv'"
      ]
     },
     "metadata": {},
     "output_type": "display_data"
    },
    {
     "name": "stdout",
     "output_type": "stream",
     "text": [
      "al-ṣan‘ah\n",
      "7\n",
      "mawwāl\n",
      "1\n",
      "zajal\n",
      "3\n",
      "qaṣīdah\n",
      "2\n",
      "tawshīḥ\n",
      "1\n",
      "unidentified\n",
      "1\n",
      "birūālatin\n",
      "1\n"
     ]
    },
    {
     "data": {
      "text/plain": [
       "'data/transliterated/tsv/4644f251-c85c-47a4-a1a7-1ca264d3c5d8.tsv'"
      ]
     },
     "metadata": {},
     "output_type": "display_data"
    },
    {
     "name": "stdout",
     "output_type": "stream",
     "text": [
      "al-ṣan‘ah\n",
      "2\n",
      "mawwāl\n",
      "1\n",
      "zajal\n",
      "2\n",
      "unidentified\n",
      "1\n"
     ]
    },
    {
     "data": {
      "text/plain": [
       "'data/transliterated/tsv/47a41543-89c7-40ad-a665-f7460ad4e4de.tsv'"
      ]
     },
     "metadata": {},
     "output_type": "display_data"
    },
    {
     "name": "stdout",
     "output_type": "stream",
     "text": [
      "al-ṣan‘ah\n",
      "6\n",
      "zajal\n",
      "4\n",
      "qaṣīdah\n",
      "2\n"
     ]
    },
    {
     "data": {
      "text/plain": [
       "'data/transliterated/tsv/4cfc03f4-9378-41d3-acd5-87b09c68d46b.tsv'"
      ]
     },
     "metadata": {},
     "output_type": "display_data"
    },
    {
     "name": "stdout",
     "output_type": "stream",
     "text": [
      "al-ṣan‘ah\n",
      "10\n",
      "inshād\n",
      "1\n",
      "zajal\n",
      "6\n",
      "tawshīḥ\n",
      "3\n",
      "qaṣīdah\n",
      "1\n",
      "unidentified\n",
      "1\n"
     ]
    },
    {
     "data": {
      "text/plain": [
       "'data/transliterated/tsv/4ddff7dd-8916-4dc4-abdd-56ce12ea88ca.tsv'"
      ]
     },
     "metadata": {},
     "output_type": "display_data"
    },
    {
     "name": "stdout",
     "output_type": "stream",
     "text": [
      "al-ṣan‘ah\n",
      "15\n",
      "zajal\n",
      "10\n",
      "tawshīḥ\n",
      "3\n",
      "qaṣīdah\n",
      "2\n"
     ]
    },
    {
     "data": {
      "text/plain": [
       "'data/transliterated/tsv/545dd98f-9667-4299-b967-71e0a2a3c883.tsv'"
      ]
     },
     "metadata": {},
     "output_type": "display_data"
    },
    {
     "name": "stdout",
     "output_type": "stream",
     "text": [
      "al-ṣan‘ah\n",
      "10\n",
      "mawwāl\n",
      "1\n",
      "zajal\n",
      "5\n",
      "tawshīḥ\n",
      "4\n",
      "unidentified\n",
      "1\n",
      "qaṣīdah\n",
      "1\n"
     ]
    },
    {
     "data": {
      "text/plain": [
       "'data/transliterated/tsv/56da9cc8-dbdf-4123-9f05-d866b8380d93.tsv'"
      ]
     },
     "metadata": {},
     "output_type": "display_data"
    },
    {
     "name": "stdout",
     "output_type": "stream",
     "text": [
      "al-ṣan‘ah\n",
      "4\n",
      "inshād\n",
      "1\n",
      "zajal\n",
      "3\n",
      "unidentified\n",
      "1\n",
      "qaṣīdah\n",
      "1\n"
     ]
    },
    {
     "data": {
      "text/plain": [
       "'data/transliterated/tsv/59fcb1d1-61f4-4cdc-9f7f-56757bf2400e.tsv'"
      ]
     },
     "metadata": {},
     "output_type": "display_data"
    },
    {
     "name": "stdout",
     "output_type": "stream",
     "text": [
      "al-ṣan‘ah\n",
      "15\n",
      "zajal\n",
      "7\n",
      "qaṣīdah\n",
      "4\n",
      "unidentified\n",
      "3\n",
      "tawshīḥ\n",
      "1\n"
     ]
    },
    {
     "data": {
      "text/plain": [
       "'data/transliterated/tsv/62acb9e5-e311-40ab-9c5c-866d071b5c93.tsv'"
      ]
     },
     "metadata": {},
     "output_type": "display_data"
    },
    {
     "name": "stdout",
     "output_type": "stream",
     "text": [
      "al-ṣan‘ah\n",
      "4\n",
      "inshād\n",
      "1\n",
      "zajal\n",
      "3\n",
      "unidentified\n",
      "1\n",
      "qaṣīdah\n",
      "1\n"
     ]
    },
    {
     "data": {
      "text/plain": [
       "'data/transliterated/tsv/6311c0de-d66f-482d-8dd1-8d8917ca6a76.tsv'"
      ]
     },
     "metadata": {},
     "output_type": "display_data"
    },
    {
     "name": "stdout",
     "output_type": "stream",
     "text": [
      "al-ṣan‘ah\n",
      "11\n",
      "inshād\n",
      "1\n",
      "tawshīḥ\n",
      "5\n",
      "qaṣīdah\n",
      "4\n",
      "zajal\n",
      "1\n",
      "birūālatin\n",
      "1\n",
      "unidentified\n",
      "1\n"
     ]
    },
    {
     "data": {
      "text/plain": [
       "'data/transliterated/tsv/64eb6302-34ec-4434-a004-4e7e503c3e6c.tsv'"
      ]
     },
     "metadata": {},
     "output_type": "display_data"
    },
    {
     "name": "stdout",
     "output_type": "stream",
     "text": [
      "al-ṣan‘ah\n",
      "3\n",
      "zajal\n",
      "3\n"
     ]
    },
    {
     "data": {
      "text/plain": [
       "'data/transliterated/tsv/679856bc-132f-4982-b04e-cbf6b5b1129b.tsv'"
      ]
     },
     "metadata": {},
     "output_type": "display_data"
    },
    {
     "name": "stdout",
     "output_type": "stream",
     "text": [
      "al-ṣan‘ah\n",
      "11\n",
      "zajal\n",
      "6\n",
      "tawshīḥ\n",
      "4\n",
      "qaṣīdah\n",
      "1\n"
     ]
    },
    {
     "data": {
      "text/plain": [
       "'data/transliterated/tsv/689a2401-00b8-44f5-8107-76bfe75a36fe.tsv'"
      ]
     },
     "metadata": {},
     "output_type": "display_data"
    },
    {
     "name": "stdout",
     "output_type": "stream",
     "text": [
      "al-ṣan‘ah\n",
      "16\n",
      "inshād\n",
      "1\n",
      "zajal\n",
      "8\n",
      "tawshīḥ\n",
      "3\n",
      "qaṣīdah\n",
      "3\n",
      "unidentified\n",
      "2\n",
      "birūālatin\n",
      "1\n"
     ]
    },
    {
     "data": {
      "text/plain": [
       "'data/transliterated/tsv/69ac4f1a-eca5-42eb-9f9c-a1c2316cb040.tsv'"
      ]
     },
     "metadata": {},
     "output_type": "display_data"
    },
    {
     "name": "stdout",
     "output_type": "stream",
     "text": [
      "al-ṣan‘ah\n",
      "9\n",
      "inshād\n",
      "1\n",
      "zajal\n",
      "7\n",
      "qaṣīdah\n",
      "2\n",
      "unidentified\n",
      "1\n"
     ]
    },
    {
     "data": {
      "text/plain": [
       "'data/transliterated/tsv/6aa540dc-e857-4115-9b90-a0480eb5316f.tsv'"
      ]
     },
     "metadata": {},
     "output_type": "display_data"
    },
    {
     "name": "stdout",
     "output_type": "stream",
     "text": [
      "al-ṣan‘ah\n",
      "11\n",
      "tawshīḥ\n",
      "7\n",
      "zajal\n",
      "3\n",
      "qaṣīdah\n",
      "1\n"
     ]
    },
    {
     "data": {
      "text/plain": [
       "'data/transliterated/tsv/6fe7108c-4e4f-457b-a363-ccf505bdee9a.tsv'"
      ]
     },
     "metadata": {},
     "output_type": "display_data"
    },
    {
     "name": "stdout",
     "output_type": "stream",
     "text": [
      "al-ṣan‘ah\n",
      "9\n",
      "zajal\n",
      "6\n",
      "tawshīḥ\n",
      "2\n",
      "qaṣīdah\n",
      "1\n"
     ]
    },
    {
     "data": {
      "text/plain": [
       "'data/transliterated/tsv/70c04adf-b886-4d62-a88a-abdde5d93715.tsv'"
      ]
     },
     "metadata": {},
     "output_type": "display_data"
    },
    {
     "name": "stdout",
     "output_type": "stream",
     "text": [
      "al-ṣan‘ah\n",
      "9\n",
      "tawshīt al-nūbah\n",
      "1\n",
      "zajal\n",
      "6\n",
      "tawshīḥ\n",
      "3\n",
      "unidentified\n",
      "1\n"
     ]
    },
    {
     "data": {
      "text/plain": [
       "'data/transliterated/tsv/719a2afc-461f-461e-ad18-8bce2c4f5023.tsv'"
      ]
     },
     "metadata": {},
     "output_type": "display_data"
    },
    {
     "name": "stdout",
     "output_type": "stream",
     "text": [
      "al-ṣan‘ah\n",
      "7\n",
      "inshād\n",
      "1\n",
      "unidentified\n",
      "3\n",
      "zajal\n",
      "3\n",
      "tawshīḥ\n",
      "2\n"
     ]
    },
    {
     "data": {
      "text/plain": [
       "'data/transliterated/tsv/73c4fd81-7464-4771-bd90-e3038dd633ef.tsv'"
      ]
     },
     "metadata": {},
     "output_type": "display_data"
    },
    {
     "name": "stdout",
     "output_type": "stream",
     "text": [
      "al-ṣan‘ah\n",
      "11\n",
      "mawwāl\n",
      "1\n",
      "zajal\n",
      "9\n",
      "tawshīḥ\n",
      "2\n",
      "unidentified\n",
      "1\n"
     ]
    },
    {
     "data": {
      "text/plain": [
       "'data/transliterated/tsv/7448d9c2-5261-4e70-bd98-6ed8416f908f.tsv'"
      ]
     },
     "metadata": {},
     "output_type": "display_data"
    },
    {
     "name": "stdout",
     "output_type": "stream",
     "text": [
      "al-ṣan‘ah\n",
      "11\n",
      "inshād\n",
      "1\n",
      "zajal\n",
      "6\n",
      "tawshīḥ\n",
      "4\n",
      "unidentified\n",
      "1\n",
      "qaṣīdah\n",
      "1\n"
     ]
    },
    {
     "data": {
      "text/plain": [
       "'data/transliterated/tsv/769ff214-27f4-4ac1-8750-a03015d51161.tsv'"
      ]
     },
     "metadata": {},
     "output_type": "display_data"
    },
    {
     "name": "stdout",
     "output_type": "stream",
     "text": [
      "al-ṣan‘ah\n",
      "9\n",
      "inshād\n",
      "1\n",
      "zajal\n",
      "4\n",
      "tawshīḥ\n",
      "3\n",
      "qaṣīdah\n",
      "2\n",
      "unidentified\n",
      "1\n"
     ]
    },
    {
     "data": {
      "text/plain": [
       "'data/transliterated/tsv/7a5cc189-4962-42d0-8141-d1374e933e46.tsv'"
      ]
     },
     "metadata": {},
     "output_type": "display_data"
    },
    {
     "name": "stdout",
     "output_type": "stream",
     "text": [
      "al-ṣan‘ah\n",
      "17\n",
      "inshād\n",
      "1\n",
      "zajal\n",
      "7\n",
      "qaṣīdah\n",
      "6\n",
      "tawshīḥ\n",
      "3\n",
      "birūālatin\n",
      "1\n",
      "unidentified\n",
      "1\n"
     ]
    },
    {
     "data": {
      "text/plain": [
       "'data/transliterated/tsv/7e3ee6f2-c42f-4da4-9816-45aadcffea88.tsv'"
      ]
     },
     "metadata": {},
     "output_type": "display_data"
    },
    {
     "name": "stdout",
     "output_type": "stream",
     "text": [
      "al-ṣan‘ah\n",
      "16\n",
      "inshād\n",
      "1\n",
      "zajal\n",
      "10\n",
      "tawshīḥ\n",
      "4\n",
      "unidentified\n",
      "2\n",
      "qaṣīdah\n",
      "1\n"
     ]
    },
    {
     "data": {
      "text/plain": [
       "'data/transliterated/tsv/80e8e9d5-c0ee-4d24-9418-f098b7110ca7.tsv'"
      ]
     },
     "metadata": {},
     "output_type": "display_data"
    },
    {
     "name": "stdout",
     "output_type": "stream",
     "text": [
      "al-ṣan‘ah\n",
      "12\n",
      "inshād\n",
      "1\n",
      "zajal\n",
      "4\n",
      "tawshīḥ\n",
      "4\n",
      "birūālatin\n",
      "2\n",
      "qaṣīdah\n",
      "2\n",
      "unidentified\n",
      "1\n"
     ]
    },
    {
     "data": {
      "text/plain": [
       "'data/transliterated/tsv/8361317d-2b4e-438f-9b73-d1daaa200a3e.tsv'"
      ]
     },
     "metadata": {},
     "output_type": "display_data"
    },
    {
     "name": "stdout",
     "output_type": "stream",
     "text": [
      "al-ṣan‘ah\n",
      "10\n",
      "inshād\n",
      "1\n",
      "zajal\n",
      "7\n",
      "qaṣīdah\n",
      "2\n",
      "unidentified\n",
      "1\n",
      "tawshīḥ\n",
      "1\n"
     ]
    },
    {
     "data": {
      "text/plain": [
       "'data/transliterated/tsv/860a5ee6-6f83-42b1-a277-8ebad8d15b37.tsv'"
      ]
     },
     "metadata": {},
     "output_type": "display_data"
    },
    {
     "name": "stdout",
     "output_type": "stream",
     "text": [
      "al-ṣan‘ah\n",
      "13\n",
      "inshād\n",
      "1\n",
      "tawshīḥ\n",
      "4\n",
      "qaṣīdah\n",
      "4\n",
      "zajal\n",
      "4\n",
      "birūālatin\n",
      "1\n",
      "unidentified\n",
      "1\n"
     ]
    },
    {
     "data": {
      "text/plain": [
       "'data/transliterated/tsv/8842c1f0-e261-4069-bd59-768bb9a3315c.tsv'"
      ]
     },
     "metadata": {},
     "output_type": "display_data"
    },
    {
     "name": "stdout",
     "output_type": "stream",
     "text": [
      "al-ṣan‘ah\n",
      "10\n",
      "inshād\n",
      "1\n",
      "zajal\n",
      "7\n",
      "birūālatin\n",
      "2\n",
      "qaṣīdah\n",
      "1\n",
      "unidentified\n",
      "1\n"
     ]
    },
    {
     "data": {
      "text/plain": [
       "'data/transliterated/tsv/8a7aa258-312b-4bfb-8b00-a58c925ceae2.tsv'"
      ]
     },
     "metadata": {},
     "output_type": "display_data"
    },
    {
     "name": "stdout",
     "output_type": "stream",
     "text": [
      "al-ṣan‘ah\n",
      "11\n",
      "zajal\n",
      "6\n",
      "tawshīḥ\n",
      "3\n",
      "unidentified\n",
      "1\n",
      "birūālatin\n",
      "1\n"
     ]
    },
    {
     "data": {
      "text/plain": [
       "'data/transliterated/tsv/8ddaae6b-3657-41f1-98a1-7faffd6dcb5f.tsv'"
      ]
     },
     "metadata": {},
     "output_type": "display_data"
    },
    {
     "name": "stdout",
     "output_type": "stream",
     "text": [
      "al-ṣan‘ah\n",
      "16\n",
      "inshād\n",
      "1\n",
      "zajal\n",
      "14\n",
      "tawshīḥ\n",
      "1\n",
      "unidentified\n",
      "1\n",
      "qaṣīdah\n",
      "1\n"
     ]
    },
    {
     "data": {
      "text/plain": [
       "'data/transliterated/tsv/8f32c379-c70a-4e9e-aabb-e0735611ecab.tsv'"
      ]
     },
     "metadata": {},
     "output_type": "display_data"
    },
    {
     "name": "stdout",
     "output_type": "stream",
     "text": [
      "al-ṣan‘ah\n",
      "8\n",
      "zajal\n",
      "5\n",
      "qaṣīdah\n",
      "3\n"
     ]
    },
    {
     "data": {
      "text/plain": [
       "'data/transliterated/tsv/92de6fc8-a040-4500-bd94-73e9ee39f189.tsv'"
      ]
     },
     "metadata": {},
     "output_type": "display_data"
    },
    {
     "name": "stdout",
     "output_type": "stream",
     "text": [
      "al-ṣan‘ah\n",
      "9\n",
      "zajal\n",
      "6\n",
      "tawshīḥ\n",
      "3\n"
     ]
    },
    {
     "data": {
      "text/plain": [
       "'data/transliterated/tsv/9727ddbe-eb79-461b-9861-8a60336b17f6.tsv'"
      ]
     },
     "metadata": {},
     "output_type": "display_data"
    },
    {
     "name": "stdout",
     "output_type": "stream",
     "text": [
      "al-ṣan‘ah\n",
      "10\n",
      "inshād\n",
      "1\n",
      "zajal\n",
      "8\n",
      "tawshīḥ\n",
      "2\n",
      "unidentified\n",
      "1\n"
     ]
    },
    {
     "data": {
      "text/plain": [
       "'data/transliterated/tsv/9781e524-92de-43f2-87e3-1e9f05931f0e.tsv'"
      ]
     },
     "metadata": {},
     "output_type": "display_data"
    },
    {
     "name": "stdout",
     "output_type": "stream",
     "text": [
      "al-ṣan‘ah\n",
      "10\n",
      "zajal\n",
      "6\n",
      "birūālatin\n",
      "3\n",
      "unidentified\n",
      "1\n"
     ]
    },
    {
     "data": {
      "text/plain": [
       "'data/transliterated/tsv/99004770-1152-4fec-802a-a0014e9b9930.tsv'"
      ]
     },
     "metadata": {},
     "output_type": "display_data"
    },
    {
     "name": "stdout",
     "output_type": "stream",
     "text": [
      "al-ṣan‘ah\n",
      "8\n",
      "inshād\n",
      "1\n",
      "mawwāl\n",
      "1\n",
      "zajal\n",
      "4\n",
      "qaṣīdah\n",
      "3\n",
      "unidentified\n",
      "2\n",
      "tawshīḥ\n",
      "1\n"
     ]
    },
    {
     "data": {
      "text/plain": [
       "'data/transliterated/tsv/9b194c42-f974-42f8-89b1-123bb07170b8.tsv'"
      ]
     },
     "metadata": {},
     "output_type": "display_data"
    },
    {
     "name": "stdout",
     "output_type": "stream",
     "text": [
      "al-ṣan‘ah\n",
      "12\n",
      "zajal\n",
      "9\n",
      "qaṣīdah\n",
      "2\n",
      "tawshīḥ\n",
      "1\n"
     ]
    },
    {
     "data": {
      "text/plain": [
       "'data/transliterated/tsv/a025eef0-d130-496f-9581-f5ce40bd1783.tsv'"
      ]
     },
     "metadata": {},
     "output_type": "display_data"
    },
    {
     "name": "stdout",
     "output_type": "stream",
     "text": [
      "al-ṣan‘ah\n",
      "5\n",
      "zajal\n",
      "3\n",
      "qaṣīdah\n",
      "1\n",
      "tawshīḥ\n",
      "1\n"
     ]
    },
    {
     "data": {
      "text/plain": [
       "'data/transliterated/tsv/a17823b4-c5bd-427e-80ad-05aee74ecdf3.tsv'"
      ]
     },
     "metadata": {},
     "output_type": "display_data"
    },
    {
     "name": "stdout",
     "output_type": "stream",
     "text": [
      "al-ṣan‘ah\n",
      "11\n",
      "inshād\n",
      "1\n",
      "zajal\n",
      "5\n",
      "tawshīḥ\n",
      "3\n",
      "qaṣīdah\n",
      "2\n",
      "unidentified\n",
      "2\n"
     ]
    },
    {
     "data": {
      "text/plain": [
       "'data/transliterated/tsv/a1eac726-208e-4c24-bd57-e34e9e93dcd3.tsv'"
      ]
     },
     "metadata": {},
     "output_type": "display_data"
    },
    {
     "name": "stdout",
     "output_type": "stream",
     "text": [
      "al-ṣan‘ah\n",
      "14\n",
      "inshād\n",
      "1\n",
      "zajal\n",
      "6\n",
      "tawshīḥ\n",
      "4\n",
      "unidentified\n",
      "3\n",
      "qaṣīdah\n",
      "2\n"
     ]
    },
    {
     "data": {
      "text/plain": [
       "'data/transliterated/tsv/a451a7fc-c53f-462a-b3fc-4377bb588105.tsv'"
      ]
     },
     "metadata": {},
     "output_type": "display_data"
    },
    {
     "name": "stdout",
     "output_type": "stream",
     "text": [
      "al-ṣan‘ah\n",
      "11\n",
      "zajal\n",
      "8\n",
      "tawshīḥ\n",
      "2\n",
      "qaṣīdah\n",
      "1\n"
     ]
    },
    {
     "data": {
      "text/plain": [
       "'data/transliterated/tsv/aecf65c2-ef6a-4e7a-a123-24fbe757684e.tsv'"
      ]
     },
     "metadata": {},
     "output_type": "display_data"
    },
    {
     "name": "stdout",
     "output_type": "stream",
     "text": [
      "al-ṣan‘ah\n",
      "10\n",
      "zajal\n",
      "8\n",
      "tawshīḥ\n",
      "2\n"
     ]
    },
    {
     "data": {
      "text/plain": [
       "'data/transliterated/tsv/b018d0fd-9955-47bb-9ef2-d291f500eebe.tsv'"
      ]
     },
     "metadata": {},
     "output_type": "display_data"
    },
    {
     "name": "stdout",
     "output_type": "stream",
     "text": [
      "al-ṣan‘ah\n",
      "11\n",
      "unidentified\n",
      "4\n",
      "inshād\n",
      "1\n",
      "unidentified\n",
      "7\n",
      "zajal\n",
      "5\n",
      "tawshīḥ\n",
      "4\n"
     ]
    },
    {
     "data": {
      "text/plain": [
       "'data/transliterated/tsv/b11237b9-d45b-4b3a-a97b-ab7d198f927f.tsv'"
      ]
     },
     "metadata": {},
     "output_type": "display_data"
    },
    {
     "name": "stdout",
     "output_type": "stream",
     "text": [
      "al-ṣan‘ah\n",
      "15\n",
      "mawwāl\n",
      "1\n",
      "unidentified\n",
      "10\n",
      "qaṣīdatun\n",
      "4\n",
      "tawshīḥ\n",
      "2\n"
     ]
    },
    {
     "data": {
      "text/plain": [
       "'data/transliterated/tsv/b485548d-6b46-48aa-835f-1326f06bb91f.tsv'"
      ]
     },
     "metadata": {},
     "output_type": "display_data"
    },
    {
     "name": "stdout",
     "output_type": "stream",
     "text": [
      "al-ṣan‘ah\n",
      "13\n",
      "mawwāl\n",
      "1\n",
      "tawshīḥ\n",
      "6\n",
      "unidentified\n",
      "3\n",
      "zajal\n",
      "3\n",
      "qaṣīdah\n",
      "2\n"
     ]
    },
    {
     "data": {
      "text/plain": [
       "'data/transliterated/tsv/b787f4e2-dce1-4bfe-89b3-193cbaa5c90d.tsv'"
      ]
     },
     "metadata": {},
     "output_type": "display_data"
    },
    {
     "name": "stdout",
     "output_type": "stream",
     "text": [
      "al-ṣan‘ah\n",
      "13\n",
      "inshād\n",
      "1\n",
      "zajal\n",
      "8\n",
      "qaṣīdah\n",
      "5\n",
      "unidentified\n",
      "1\n"
     ]
    },
    {
     "data": {
      "text/plain": [
       "'data/transliterated/tsv/b7b63bb4-1839-45bf-bb4f-389f150c556a.tsv'"
      ]
     },
     "metadata": {},
     "output_type": "display_data"
    },
    {
     "name": "stdout",
     "output_type": "stream",
     "text": [
      "al-ṣan‘ah\n",
      "15\n",
      "tawshīḥ\n",
      "5\n",
      "zajal\n",
      "4\n",
      "qaṣīdah\n",
      "3\n",
      "unidentified\n",
      "3\n"
     ]
    },
    {
     "data": {
      "text/plain": [
       "'data/transliterated/tsv/b8327bca-28eb-402b-9184-7777b980048c.tsv'"
      ]
     },
     "metadata": {},
     "output_type": "display_data"
    },
    {
     "name": "stdout",
     "output_type": "stream",
     "text": [
      "al-ṣan‘ah\n",
      "8\n",
      "inshād\n",
      "1\n",
      "zajal\n",
      "5\n",
      "unidentified\n",
      "2\n",
      "tawshīḥ\n",
      "1\n",
      "qaṣīdah\n",
      "1\n"
     ]
    },
    {
     "data": {
      "text/plain": [
       "'data/transliterated/tsv/bb7adfee-f63d-4004-a457-b31ae784a0bd.tsv'"
      ]
     },
     "metadata": {},
     "output_type": "display_data"
    },
    {
     "name": "stdout",
     "output_type": "stream",
     "text": [
      "al-ṣan‘ah\n",
      "13\n",
      "inshād\n",
      "2\n",
      "zajal\n",
      "6\n",
      "unidentified\n",
      "4\n",
      "qaṣīdah\n",
      "3\n",
      "tawshīḥ\n",
      "2\n"
     ]
    },
    {
     "data": {
      "text/plain": [
       "'data/transliterated/tsv/c1e0311e-ee21-470c-b6f9-815d892cf6c9.tsv'"
      ]
     },
     "metadata": {},
     "output_type": "display_data"
    },
    {
     "name": "stdout",
     "output_type": "stream",
     "text": [
      "al-ṣan‘ah\n",
      "15\n",
      "mawwāl\n",
      "1\n",
      "zajal\n",
      "6\n",
      "tawshīḥ\n",
      "4\n",
      "qaṣīdah\n",
      "3\n",
      "unidentified\n",
      "2\n",
      "birūālatin\n",
      "1\n"
     ]
    },
    {
     "data": {
      "text/plain": [
       "'data/transliterated/tsv/c20e4852-d140-4909-acab-e850c0e7d8e8.tsv'"
      ]
     },
     "metadata": {},
     "output_type": "display_data"
    },
    {
     "name": "stdout",
     "output_type": "stream",
     "text": [
      "al-ṣan‘ah\n",
      "8\n",
      "inshād\n",
      "1\n",
      "zajal\n",
      "4\n",
      "tawshīḥ\n",
      "3\n",
      "unidentified\n",
      "1\n",
      "qaṣīdah\n",
      "1\n"
     ]
    },
    {
     "data": {
      "text/plain": [
       "'data/transliterated/tsv/c2560f5e-e040-40ca-a390-72ed1ecd0792.tsv'"
      ]
     },
     "metadata": {},
     "output_type": "display_data"
    },
    {
     "name": "stdout",
     "output_type": "stream",
     "text": [
      "al-ṣan‘ah\n",
      "11\n",
      "zajal\n",
      "4\n",
      "qaṣīdah\n",
      "4\n",
      "tawshīḥ\n",
      "2\n",
      "unidentified\n",
      "1\n"
     ]
    },
    {
     "data": {
      "text/plain": [
       "'data/transliterated/tsv/c462ca37-7812-4b9b-9865-275da1f237fe.tsv'"
      ]
     },
     "metadata": {},
     "output_type": "display_data"
    },
    {
     "name": "stdout",
     "output_type": "stream",
     "text": [
      "al-ṣan‘ah\n",
      "13\n",
      "zajal\n",
      "11\n",
      "qaṣīdah\n",
      "1\n",
      "tawshīḥ\n",
      "1\n"
     ]
    },
    {
     "data": {
      "text/plain": [
       "'data/transliterated/tsv/c8029ba7-5827-4628-b0bd-1adcc1bb8379.tsv'"
      ]
     },
     "metadata": {},
     "output_type": "display_data"
    },
    {
     "name": "stdout",
     "output_type": "stream",
     "text": [
      "al-ṣan‘ah\n",
      "9\n",
      "inshād\n",
      "1\n",
      "tawshīḥ\n",
      "4\n",
      "zajal\n",
      "3\n",
      "qaṣīdah\n",
      "2\n",
      "unidentified\n",
      "1\n"
     ]
    },
    {
     "data": {
      "text/plain": [
       "'data/transliterated/tsv/cb85269e-ab6c-4226-aea1-8226be1fe86c.tsv'"
      ]
     },
     "metadata": {},
     "output_type": "display_data"
    },
    {
     "name": "stdout",
     "output_type": "stream",
     "text": [
      "al-ṣan‘ah\n",
      "7\n",
      "zajal\n",
      "5\n",
      "tawshīḥ\n",
      "2\n"
     ]
    },
    {
     "data": {
      "text/plain": [
       "'data/transliterated/tsv/ccbfa79b-5ca4-4719-9f6b-04076180642e.tsv'"
      ]
     },
     "metadata": {},
     "output_type": "display_data"
    },
    {
     "name": "stdout",
     "output_type": "stream",
     "text": [
      "al-ṣan‘ah\n",
      "9\n",
      "inshād\n",
      "1\n",
      "zajal\n",
      "5\n",
      "qaṣīdah\n",
      "3\n",
      "tawshīḥ\n",
      "1\n",
      "unidentified\n",
      "1\n"
     ]
    },
    {
     "data": {
      "text/plain": [
       "'data/transliterated/tsv/cdf77450-2d12-472d-9f6d-c150bba808b8.tsv'"
      ]
     },
     "metadata": {},
     "output_type": "display_data"
    },
    {
     "name": "stdout",
     "output_type": "stream",
     "text": [
      "al-ṣan‘ah\n",
      "11\n",
      "tawshīt al-nūbah\n",
      "1\n",
      "inshād\n",
      "1\n",
      "zajal\n",
      "7\n",
      "tawshīḥ\n",
      "4\n",
      "unidentified\n",
      "2\n"
     ]
    },
    {
     "data": {
      "text/plain": [
       "'data/transliterated/tsv/d2830817-7b06-4f98-bba5-daf8ae9f85be.tsv'"
      ]
     },
     "metadata": {},
     "output_type": "display_data"
    },
    {
     "name": "stdout",
     "output_type": "stream",
     "text": [
      "al-ṣan‘ah\n",
      "9\n",
      "inshād\n",
      "1\n",
      "zajal\n",
      "8\n",
      "unidentified\n",
      "1\n",
      "qaṣīdah\n",
      "1\n"
     ]
    },
    {
     "data": {
      "text/plain": [
       "'data/transliterated/tsv/d4cadf34-1074-44ce-9928-f438198d5d6d.tsv'"
      ]
     },
     "metadata": {},
     "output_type": "display_data"
    },
    {
     "name": "stdout",
     "output_type": "stream",
     "text": [
      "al-ṣan‘ah\n",
      "2\n",
      "zajal\n",
      "2\n"
     ]
    },
    {
     "data": {
      "text/plain": [
       "'data/transliterated/tsv/d5cc773e-9d31-42e8-b9de-91374fe7153b.tsv'"
      ]
     },
     "metadata": {},
     "output_type": "display_data"
    },
    {
     "name": "stdout",
     "output_type": "stream",
     "text": [
      "al-ṣan‘ah\n",
      "14\n",
      "inshād\n",
      "1\n",
      "zajal\n",
      "6\n",
      "qaṣīdah\n",
      "5\n",
      "tawshīḥ\n",
      "2\n",
      "birūlatin\n",
      "1\n",
      "unidentified\n",
      "1\n"
     ]
    },
    {
     "data": {
      "text/plain": [
       "'data/transliterated/tsv/d66d44e9-f722-4b23-8753-0dea2818f475.tsv'"
      ]
     },
     "metadata": {},
     "output_type": "display_data"
    },
    {
     "name": "stdout",
     "output_type": "stream",
     "text": [
      "al-ṣan‘ah\n",
      "9\n",
      "inshād\n",
      "1\n",
      "zajal\n",
      "4\n",
      "tawshīḥ\n",
      "3\n",
      "unidentified\n",
      "2\n",
      "qaṣīdah\n",
      "1\n"
     ]
    },
    {
     "data": {
      "text/plain": [
       "'data/transliterated/tsv/d7d67d50-9601-4119-8910-169383208a29.tsv'"
      ]
     },
     "metadata": {},
     "output_type": "display_data"
    },
    {
     "name": "stdout",
     "output_type": "stream",
     "text": [
      "al-ṣan‘ah\n",
      "15\n",
      "tawshīḥ\n",
      "7\n",
      "zajal\n",
      "4\n",
      "qaṣīdah\n",
      "2\n",
      "unidentified\n",
      "2\n"
     ]
    },
    {
     "data": {
      "text/plain": [
       "'data/transliterated/tsv/d80d7c9c-3be1-4309-8520-12ac542a6759.tsv'"
      ]
     },
     "metadata": {},
     "output_type": "display_data"
    },
    {
     "name": "stdout",
     "output_type": "stream",
     "text": [
      "al-ṣan‘ah\n",
      "8\n",
      "inshād\n",
      "1\n",
      "zajal\n",
      "6\n",
      "qaṣīdah\n",
      "2\n",
      "unidentified\n",
      "1\n"
     ]
    },
    {
     "data": {
      "text/plain": [
       "'data/transliterated/tsv/dae13b1f-b7fd-4db3-af3c-11784d51d829.tsv'"
      ]
     },
     "metadata": {},
     "output_type": "display_data"
    },
    {
     "name": "stdout",
     "output_type": "stream",
     "text": [
      "al-ṣan‘ah\n",
      "8\n",
      "inshād\n",
      "1\n",
      "zajal\n",
      "7\n",
      "unidentified\n",
      "1\n",
      "qaṣīdah\n",
      "1\n"
     ]
    },
    {
     "data": {
      "text/plain": [
       "'data/transliterated/tsv/db529ac1-4b46-4c7b-bf6a-28f152bf19fb.tsv'"
      ]
     },
     "metadata": {},
     "output_type": "display_data"
    },
    {
     "name": "stdout",
     "output_type": "stream",
     "text": [
      "al-ṣan‘ah\n",
      "5\n",
      "zajal\n",
      "3\n",
      "tawshīḥ\n",
      "2\n"
     ]
    },
    {
     "data": {
      "text/plain": [
       "'data/transliterated/tsv/e0ce0420-165c-4339-8556-6d75a0b733c7.tsv'"
      ]
     },
     "metadata": {},
     "output_type": "display_data"
    },
    {
     "name": "stdout",
     "output_type": "stream",
     "text": [
      "al-ṣan‘ah\n",
      "18\n",
      "inshād\n",
      "1\n",
      "tawshīḥ\n",
      "9\n",
      "zajal\n",
      "5\n",
      "qaṣīdah\n",
      "3\n",
      "unidentified\n",
      "2\n"
     ]
    },
    {
     "data": {
      "text/plain": [
       "'data/transliterated/tsv/e22549ae-4a0c-43ef-87f4-e0f81ed49d58.tsv'"
      ]
     },
     "metadata": {},
     "output_type": "display_data"
    },
    {
     "name": "stdout",
     "output_type": "stream",
     "text": [
      "al-ṣan‘ah\n",
      "10\n",
      "inshād\n",
      "1\n",
      "unidentified\n",
      "1\n",
      "zajal\n",
      "6\n",
      "tawshīḥ\n",
      "4\n",
      "unidentified\n",
      "2\n"
     ]
    },
    {
     "data": {
      "text/plain": [
       "'data/transliterated/tsv/e4e3fc3c-8d57-4123-b14c-236110dde3c0.tsv'"
      ]
     },
     "metadata": {},
     "output_type": "display_data"
    },
    {
     "name": "stdout",
     "output_type": "stream",
     "text": [
      "al-ṣan‘ah\n",
      "7\n",
      "tawshīḥ\n",
      "3\n",
      "zajal\n",
      "2\n",
      "qaṣīdah\n",
      "1\n",
      "unidentified\n",
      "1\n"
     ]
    },
    {
     "data": {
      "text/plain": [
       "'data/transliterated/tsv/e79c1615-7172-43a4-acdf-e9475c224edf.tsv'"
      ]
     },
     "metadata": {},
     "output_type": "display_data"
    },
    {
     "name": "stdout",
     "output_type": "stream",
     "text": [
      "al-ṣan‘ah\n",
      "10\n",
      "zajal\n",
      "4\n",
      "tawshīḥ\n",
      "3\n",
      "qaṣīdah\n",
      "2\n",
      "birūālatin\n",
      "1\n"
     ]
    },
    {
     "data": {
      "text/plain": [
       "'data/transliterated/tsv/ec15c3e3-f58b-4073-8e1e-82620f488745.tsv'"
      ]
     },
     "metadata": {},
     "output_type": "display_data"
    },
    {
     "name": "stdout",
     "output_type": "stream",
     "text": [
      "al-ṣan‘ah\n",
      "11\n",
      "inshād\n",
      "1\n",
      "zajal\n",
      "6\n",
      "qaṣīdah\n",
      "3\n",
      "tawshīḥ\n",
      "2\n",
      "unidentified\n",
      "1\n"
     ]
    },
    {
     "data": {
      "text/plain": [
       "'data/transliterated/tsv/ec5d2ba0-7c04-4d87-83b9-f82d363ca319.tsv'"
      ]
     },
     "metadata": {},
     "output_type": "display_data"
    },
    {
     "name": "stdout",
     "output_type": "stream",
     "text": [
      "al-ṣan‘ah\n",
      "14\n",
      "mawwāl\n",
      "1\n",
      "zajal\n",
      "11\n",
      "tawshīḥ\n",
      "2\n",
      "qaṣīdah\n",
      "1\n",
      "unidentified\n",
      "1\n"
     ]
    },
    {
     "data": {
      "text/plain": [
       "'data/transliterated/tsv/ee64a602-ace5-4e1a-96ef-89a7cf41cfb5.tsv'"
      ]
     },
     "metadata": {},
     "output_type": "display_data"
    },
    {
     "name": "stdout",
     "output_type": "stream",
     "text": [
      "al-ṣan‘ah\n",
      "9\n",
      "inshād\n",
      "1\n",
      "zajal\n",
      "4\n",
      "tawshīḥ\n",
      "3\n",
      "unidentified\n",
      "2\n",
      "qaṣīdah\n",
      "1\n"
     ]
    },
    {
     "data": {
      "text/plain": [
       "'data/transliterated/tsv/f461045b-50bc-4b20-a731-66fbd3a264ae.tsv'"
      ]
     },
     "metadata": {},
     "output_type": "display_data"
    },
    {
     "name": "stdout",
     "output_type": "stream",
     "text": [
      "al-ṣan‘ah\n",
      "12\n",
      "inshād\n",
      "1\n",
      "qaṣīdah\n",
      "5\n",
      "zajal\n",
      "4\n",
      "unidentified\n",
      "2\n",
      "birūālatin\n",
      "1\n",
      "tawshīḥ\n",
      "1\n"
     ]
    },
    {
     "data": {
      "text/plain": [
       "'data/transliterated/tsv/f7bcb9af-6abb-4192-ae3d-37fa811034ce.tsv'"
      ]
     },
     "metadata": {},
     "output_type": "display_data"
    },
    {
     "name": "stdout",
     "output_type": "stream",
     "text": [
      "al-ṣan‘ah\n",
      "15\n",
      "inshād\n",
      "1\n",
      "zajal\n",
      "9\n",
      "qaṣīdah\n",
      "3\n",
      "tawshīḥ\n",
      "2\n",
      "birūālatin\n",
      "1\n",
      "unidentified\n",
      "1\n"
     ]
    },
    {
     "data": {
      "text/plain": [
       "'data/transliterated/tsv/f7c00e6e-7b07-47ba-bfdd-146ddbf9adb5.tsv'"
      ]
     },
     "metadata": {},
     "output_type": "display_data"
    },
    {
     "name": "stdout",
     "output_type": "stream",
     "text": [
      "al-ṣan‘ah\n",
      "10\n",
      "inshād\n",
      "1\n",
      "zajal\n",
      "8\n",
      "unidentified\n",
      "2\n",
      "tawshīḥ\n",
      "1\n"
     ]
    },
    {
     "data": {
      "text/plain": [
       "'data/transliterated/tsv/f8b75f4a-1524-43cb-ad45-622ac277d96e.tsv'"
      ]
     },
     "metadata": {},
     "output_type": "display_data"
    },
    {
     "name": "stdout",
     "output_type": "stream",
     "text": [
      "al-ṣan‘ah\n",
      "6\n",
      "unidentified\n",
      "1\n",
      "zajal\n",
      "2\n",
      "qaṣīdah\n",
      "2\n",
      "tawshīḥ\n",
      "2\n",
      "unidentified\n",
      "1\n"
     ]
    },
    {
     "data": {
      "text/plain": [
       "'data/transliterated/tsv/fb387964-4764-4900-91b5-f2ea7e10b786.tsv'"
      ]
     },
     "metadata": {},
     "output_type": "display_data"
    },
    {
     "name": "stdout",
     "output_type": "stream",
     "text": [
      "al-ṣan‘ah\n",
      "9\n",
      "zajal\n",
      "8\n",
      "qaṣīdah\n",
      "1\n"
     ]
    }
   ],
   "source": [
    "original_files = sorted(glob.glob(\"data/original/tsv/*.tsv\"))\n",
    "transliterated_files = sorted(glob.glob(\"data/transliterated/tsv/*.tsv\"))\n",
    "\n",
    "processed_original_files = []\n",
    "processed_transliterated_files = []\n",
    "\n",
    "for filename in original_files:\n",
    "    mbid = filename[filename.rfind(\"/\")+1:filename.rfind(\".\")]\n",
    "    f = codecs.open(filename, \"r\", \"utf-8\")\n",
    "    (recording_sanas, sana_types, poem_types) = tsv_to_json(f, 'o')\n",
    "    f.close()\n",
    "    json.dump(recording_sanas, codecs.open(\"data/original/json/%s.json\" % mbid, \"w+\", \"utf-8\"))\n",
    "    processed_original_files.append(filename)\n",
    "    display(filename)\n",
    "    \n",
    "    for stype, freq in sorted(sana_types.items(), key=lambda x: x[1], reverse=True):\n",
    "        print(stype)\n",
    "        print(freq)\n",
    "\n",
    "    for ptype, freq in sorted(poem_types.items(), key=lambda x: x[1], reverse=True):\n",
    "        print(ptype)\n",
    "        print(freq)\n",
    "        \n",
    "for filename in transliterated_files:\n",
    "    mbid = filename[filename.rfind(\"/\")+1:filename.rfind(\".\")]\n",
    "    f = codecs.open(filename, \"r\", \"utf-8\")\n",
    "    (recording_sanas, sana_types, poem_types) = tsv_to_json(f, 't')\n",
    "    f.close()\n",
    "    json.dump(recording_sanas, codecs.open(\"data/transliterated/json/%s.json\" % mbid, \"w+\", \"utf-8\"))\n",
    "    processed_transliterated_files.append(filename)\n",
    "    display(filename)\n",
    "    \n",
    "    for stype, freq in sorted(sana_types.items(), key=lambda x: x[1], reverse=True):\n",
    "        print(stype)\n",
    "        print(freq)\n",
    "\n",
    "    for ptype, freq in sorted(poem_types.items(), key=lambda x: x[1], reverse=True):\n",
    "        print(ptype)\n",
    "        print(freq)"
   ]
  },
  {
   "cell_type": "code",
   "execution_count": null,
   "metadata": {},
   "outputs": [],
   "source": []
  }
 ],
 "metadata": {
  "kernelspec": {
   "display_name": "Python 3",
   "language": "python",
   "name": "python3"
  },
  "language_info": {
   "codemirror_mode": {
    "name": "ipython",
    "version": 3
   },
   "file_extension": ".py",
   "mimetype": "text/x-python",
   "name": "python",
   "nbconvert_exporter": "python",
   "pygments_lexer": "ipython3",
   "version": "3.7.2"
  }
 },
 "nbformat": 4,
 "nbformat_minor": 2
}
